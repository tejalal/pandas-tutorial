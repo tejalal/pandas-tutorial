{
  "nbformat": 4,
  "nbformat_minor": 0,
  "metadata": {
    "colab": {
      "name": "Pandas_cheatsheet.ipynb",
      "provenance": [],
      "collapsed_sections": [
        "Cp6yTMgo1uth",
        "fO_Up3OX4GIR",
        "unV2f6Yh5KJK",
        "HIrkUbQe5kmZ",
        "5WBUFfAh7HMz",
        "Z9vpVxf5D6PN",
        "gEJS9N0vFzkF"
      ],
      "authorship_tag": "ABX9TyMqx4w0PcgGbZEPBePmP5XD",
      "include_colab_link": true
    },
    "kernelspec": {
      "name": "python3",
      "display_name": "Python 3"
    },
    "language_info": {
      "name": "python"
    }
  },
  "cells": [
    {
      "cell_type": "markdown",
      "metadata": {
        "id": "view-in-github",
        "colab_type": "text"
      },
      "source": [
        "<a href=\"https://colab.research.google.com/github/tejalal/pandas-tutorial/blob/master/Pandas_cheatsheet.ipynb\" target=\"_parent\"><img src=\"https://colab.research.google.com/assets/colab-badge.svg\" alt=\"Open In Colab\"/></a>"
      ]
    },
    {
      "cell_type": "markdown",
      "metadata": {
        "id": "Cp6yTMgo1uth"
      },
      "source": [
        "## Basic functions"
      ]
    },
    {
      "cell_type": "code",
      "metadata": {
        "id": "sYYpB1gdOqUO"
      },
      "source": [
        "import datetime\n",
        "import seaborn as sns\n",
        "%matplotlib inline\n",
        "import pandas as pd\n",
        "\n",
        "# load google drive\n",
        "from google.colab import drive\n",
        "drive.mount('/content/drive')\n",
        "data = pd.read_csv('/content/drive/MyDrive/Dataset/IRIS.csv', delimiter='\\t', ) \n",
        "# skiprows=[0], header=None, names=names\n",
        "data.head()"
      ],
      "execution_count": null,
      "outputs": []
    },
    {
      "cell_type": "code",
      "metadata": {
        "colab": {
          "base_uri": "https://localhost:8080/"
        },
        "id": "D24TmBkB1xzg",
        "outputId": "d5bf9a5a-7f51-467a-b6e7-3761e23e5f8a"
      },
      "source": [
        "import pandas as pd\n",
        "print('Pandas Version:', pd.__version__)\n",
        " \n",
        "# Series\n",
        "values = ['India', 'Australia', 'USA', 'China']\n",
        "countries = pd.Series(values)\n",
        "week = pd.Series([10,20,30,40,50,50,60,70])\n",
        " \n",
        "# DataFrame\n",
        "data = pd.read_csv(\"IRIS.csv\") # delimiter='\\t', index_col=False, names = names(list)\n",
        "\n",
        "data.describe()\n",
        "data.describe(include='all')\n",
        "data.describe(include=['object'])\n",
        "data['sepal-length'].describe()\n",
        "data['sepal-length'].tail(4)\n",
        "data[['sepal-length', 'sepal-width']][10:15]\n",
        "\n",
        "data.size #total number of entries\n",
        "data.ndim\n",
        "data.head(5)\n",
        "data.tail(5)\n",
        "data.shape\n",
        "data.values # print all values\n",
        "data.nunique()\n",
        "labs['LabName'].value_counts()\n",
        "\n",
        "\n",
        "data.sample(n=5) # random samples\n",
        "\n",
        "data.sum()\n",
        "data.mean()\n",
        "data['sepal-length'].mean()\n",
        "data['sepal-length'].std()\n",
        "data.count() # no. of non-null observation in each column\n",
        "data['class'].count() # class-wise count\n",
        "data.median()\n",
        "data['sepal-length'].abs()\n",
        "data['sepal-length'].min()\n",
        "data['sepal-length'].max()\n",
        "data.cumsum()\n",
        "data.cumprod() # works only with numerical values\n",
        "data['sepal-length'].cumprod()\n",
        "\n",
        "data.replace(-999,np.nan) # Replacing negagtive numbers with NaN\n",
        "\n",
        "# Sorting\n",
        "data[:5]['sepal-length'].sort_values()\n",
        "data[:5].sort_values(by='sepal-length')\n",
        "data[:5].sort_values(by='sepal-length', ascending = False)\n",
        "data[:5]['sepal-length'].sort_values(ascending = False)\n",
        "data[:5]['sepal-length'].sort_values(kind='heapsort') # mergesort, heapsort and quicksort."
      ],
      "execution_count": 1,
      "outputs": [
        {
          "output_type": "stream",
          "name": "stdout",
          "text": [
            "Pandas Version: 1.1.5\n"
          ]
        }
      ]
    },
    {
      "cell_type": "markdown",
      "metadata": {
        "id": "fO_Up3OX4GIR"
      },
      "source": [
        "## Groupby"
      ]
    },
    {
      "cell_type": "code",
      "metadata": {
        "id": "0dgHsGTc4XPa"
      },
      "source": [
        "data.groupby('class').size() # class-wise count\n",
        "data.groupby(['class','sepal-length']).groups\n",
        "data.groupby('class').mean()\n",
        "\n",
        "# Iterating through Groups\n",
        "grouped = data.groupby('class')\n",
        "for cls,values in grouped:\n",
        "    print(cls)\n",
        "    print(values)\n",
        "\n",
        "    # Select a Group\n",
        "\n",
        "grouped = data.groupby('class')\n",
        "grouped.get_group('Iris-setosa')\n",
        "\n",
        "patients.groupby('PatientRace').size()\n",
        "\n",
        "# Admission ID wise details\n",
        "admission.groupby('AdmissionID').count()"
      ],
      "execution_count": null,
      "outputs": []
    },
    {
      "cell_type": "markdown",
      "metadata": {
        "id": "unV2f6Yh5KJK"
      },
      "source": [
        "## Aggregations\n",
        "An aggregated function returns a single aggregated value for each group.\n",
        "Once the group by object is created, several aggregation operations can be performed on the grouped data."
      ]
    },
    {
      "cell_type": "code",
      "metadata": {
        "id": "eW1kHVq817m0"
      },
      "source": [
        "grouped = data.groupby('class')\n",
        "grouped['sepal-length'].agg(np.mean)\n",
        "\n",
        "# Mutiple aggregate functions at once\n",
        "grouped = data.groupby('class')\n",
        "grouped['sepal-length'].agg([np.sum, np.mean, np.std])"
      ],
      "execution_count": 2,
      "outputs": []
    },
    {
      "cell_type": "code",
      "metadata": {
        "id": "EnTB-FR92M25"
      },
      "source": [
        ""
      ],
      "execution_count": null,
      "outputs": []
    },
    {
      "cell_type": "markdown",
      "metadata": {
        "id": "HIrkUbQe5kmZ"
      },
      "source": [
        "## Working with Text data\n",
        "\n",
        "- upper()\n",
        "- lower()\n",
        "- title()\n",
        "- len()\n",
        "- isnumeric()\n",
        "- strip()\n",
        "- isdigit()\n",
        "- isalpha()\n",
        "- isupper()\n",
        "- islowe()\n",
        "- swapcase()\n",
        "- count(value)\n",
        "- find(value)\n",
        "- findall(value)\n",
        "- startswith()\n",
        "- endswith()\n",
        "- split(seprator)\n",
        "- replace(value1,value2)\n",
        "- cat(seperator)\n",
        "- repeat(n)\n",
        "- contains(value)\n",
        "- get_dummies()"
      ]
    },
    {
      "cell_type": "code",
      "metadata": {
        "id": "XWPegZSw5tro"
      },
      "source": [
        "countries = pd.Series(['India', 'australia', ' USA', 'China'])\n",
        "countries = countries.str\n",
        "print(countries)\n",
        "\n",
        "countries.count('U')\n",
        "countries.find('USA') \n",
        "countries.findall('a') \n",
        "countries.cat(sep='$') \n",
        "countries.contains('aus')"
      ],
      "execution_count": null,
      "outputs": []
    },
    {
      "cell_type": "markdown",
      "metadata": {
        "id": "5WBUFfAh7HMz"
      },
      "source": [
        "## Working with options"
      ]
    },
    {
      "cell_type": "code",
      "metadata": {
        "id": "icf0wu9x7KwA"
      },
      "source": [
        "print(pd.get_option(\"display.max_columns\"))\n",
        "print(pd.get_option(\"display.max_rows\"))\n",
        "\n",
        "pd.set_option(\"display.max_rows\",100)\n",
        "pd.set_option(\"display.max_columns\",100)\n",
        "\n",
        "print(pd.get_option(\"display.max_columns\"))\n",
        "\n",
        "pd.reset_option(\"display.max_rows\")\n",
        "print(pd.get_option(\"display.max_rows\"))\n",
        "\n",
        "#print(pd.describe_option(\"display.max_rows\"))"
      ],
      "execution_count": null,
      "outputs": []
    },
    {
      "cell_type": "markdown",
      "metadata": {
        "id": "kTpLigqn7d0K"
      },
      "source": [
        "## Plotting"
      ]
    },
    {
      "cell_type": "code",
      "metadata": {
        "id": "eXRpqXoO7gIB"
      },
      "source": [
        "import matplotlib.pyplot as plt\n",
        "%matplotlib inline\n",
        "import numpy as np\n",
        "\n",
        "#data.plot()\n",
        "data.plot(kind='bar',figsize=(10,10)) # bar chart\n",
        "\n",
        "# histogram \n",
        "data.hist(edgecolor='black', linewidth=1.2)\n",
        "fig=plt.gcf()\n",
        "fig.set_size_inches(12,6)"
      ],
      "execution_count": null,
      "outputs": []
    },
    {
      "cell_type": "code",
      "metadata": {
        "id": "SB9U83sQPip-"
      },
      "source": [
        "#male_female = patients.groupby('PatientGender').size()\n",
        "sns.countplot(x='PatientGender',data=patients) # gender wise plot\n",
        "# Patints distribution according to the marital status\n",
        "sns.countplot(x='PatientMaritalStatus',data=patients)\n",
        "\n",
        "# patients age distribution\n",
        "sns.histplot(patients['AgeNew']) # histogram\n",
        "# plot the #days patient histogram\n",
        "sns.histplot(df['diff']) # days diffrence (startday-endday)\n",
        "\n",
        "# Draw normal curve\n",
        "ax = df['diff'].plot.kde()\n",
        "\n",
        "# Year wise lab prescribed\n",
        "df3 = pd.to_datetime(labs['LabDateTime'])\n",
        "sns.histplot(df3)"
      ],
      "execution_count": null,
      "outputs": []
    },
    {
      "cell_type": "markdown",
      "metadata": {
        "id": "2EoDZdm19BnL"
      },
      "source": [
        "## Select/set specific values"
      ]
    },
    {
      "cell_type": "markdown",
      "metadata": {
        "id": "yqcm0MoSAGwz"
      },
      "source": [
        "- df.loc[] and df.iloc[] to select only rows, only column or both\n",
        "- df.at[] and df.iat[] to access a single value by row and column\n",
        "- First index selects row, second select column"
      ]
    },
    {
      "cell_type": "code",
      "metadata": {
        "colab": {
          "base_uri": "https://localhost:8080/",
          "height": 175
        },
        "id": "fS3DXy099Frp",
        "outputId": "6d3b9d82-64dd-41eb-92a5-31a87e40d5d9"
      },
      "source": [
        "import pandas as pd\n",
        "info = [['abc',5,3,4],\n",
        "        ['def',5,6,7],\n",
        "        ['ghi',8,9,10],\n",
        "        ['jkl',11,12,13],\n",
        "        ]\n",
        "names = ['name', 'age', 'min', 'max']\n",
        "df  = pd.DataFrame(info, columns = names)\n",
        "df"
      ],
      "execution_count": 52,
      "outputs": [
        {
          "output_type": "execute_result",
          "data": {
            "text/html": [
              "<div>\n",
              "<style scoped>\n",
              "    .dataframe tbody tr th:only-of-type {\n",
              "        vertical-align: middle;\n",
              "    }\n",
              "\n",
              "    .dataframe tbody tr th {\n",
              "        vertical-align: top;\n",
              "    }\n",
              "\n",
              "    .dataframe thead th {\n",
              "        text-align: right;\n",
              "    }\n",
              "</style>\n",
              "<table border=\"1\" class=\"dataframe\">\n",
              "  <thead>\n",
              "    <tr style=\"text-align: right;\">\n",
              "      <th></th>\n",
              "      <th>name</th>\n",
              "      <th>age</th>\n",
              "      <th>min</th>\n",
              "      <th>max</th>\n",
              "    </tr>\n",
              "  </thead>\n",
              "  <tbody>\n",
              "    <tr>\n",
              "      <th>0</th>\n",
              "      <td>abc</td>\n",
              "      <td>5</td>\n",
              "      <td>3</td>\n",
              "      <td>4</td>\n",
              "    </tr>\n",
              "    <tr>\n",
              "      <th>1</th>\n",
              "      <td>def</td>\n",
              "      <td>5</td>\n",
              "      <td>6</td>\n",
              "      <td>7</td>\n",
              "    </tr>\n",
              "    <tr>\n",
              "      <th>2</th>\n",
              "      <td>ghi</td>\n",
              "      <td>8</td>\n",
              "      <td>9</td>\n",
              "      <td>10</td>\n",
              "    </tr>\n",
              "    <tr>\n",
              "      <th>3</th>\n",
              "      <td>jkl</td>\n",
              "      <td>11</td>\n",
              "      <td>12</td>\n",
              "      <td>13</td>\n",
              "    </tr>\n",
              "  </tbody>\n",
              "</table>\n",
              "</div>"
            ],
            "text/plain": [
              "  name  age  min  max\n",
              "0  abc    5    3    4\n",
              "1  def    5    6    7\n",
              "2  ghi    8    9   10\n",
              "3  jkl   11   12   13"
            ]
          },
          "metadata": {},
          "execution_count": 52
        }
      ]
    },
    {
      "cell_type": "code",
      "metadata": {
        "colab": {
          "base_uri": "https://localhost:8080/",
          "height": 175
        },
        "id": "MNk0y3YaF7ok",
        "outputId": "a558730d-9380-463e-f879-3c71dfd7281e"
      },
      "source": [
        "import pandas as pd\n",
        "info2 = [['abc',5,3,4],\n",
        "        ['ef',5,6,7],\n",
        "        ['ghi',8,9,10],\n",
        "        ['kl',11,12,13],\n",
        "        ]\n",
        "names = ['name', 'sal', 'min_sal', 'max_sal']\n",
        "df2  = pd.DataFrame(info2, columns = names)\n",
        "df2"
      ],
      "execution_count": 53,
      "outputs": [
        {
          "output_type": "execute_result",
          "data": {
            "text/html": [
              "<div>\n",
              "<style scoped>\n",
              "    .dataframe tbody tr th:only-of-type {\n",
              "        vertical-align: middle;\n",
              "    }\n",
              "\n",
              "    .dataframe tbody tr th {\n",
              "        vertical-align: top;\n",
              "    }\n",
              "\n",
              "    .dataframe thead th {\n",
              "        text-align: right;\n",
              "    }\n",
              "</style>\n",
              "<table border=\"1\" class=\"dataframe\">\n",
              "  <thead>\n",
              "    <tr style=\"text-align: right;\">\n",
              "      <th></th>\n",
              "      <th>name</th>\n",
              "      <th>sal</th>\n",
              "      <th>min_sal</th>\n",
              "      <th>max_sal</th>\n",
              "    </tr>\n",
              "  </thead>\n",
              "  <tbody>\n",
              "    <tr>\n",
              "      <th>0</th>\n",
              "      <td>abc</td>\n",
              "      <td>5</td>\n",
              "      <td>3</td>\n",
              "      <td>4</td>\n",
              "    </tr>\n",
              "    <tr>\n",
              "      <th>1</th>\n",
              "      <td>ef</td>\n",
              "      <td>5</td>\n",
              "      <td>6</td>\n",
              "      <td>7</td>\n",
              "    </tr>\n",
              "    <tr>\n",
              "      <th>2</th>\n",
              "      <td>ghi</td>\n",
              "      <td>8</td>\n",
              "      <td>9</td>\n",
              "      <td>10</td>\n",
              "    </tr>\n",
              "    <tr>\n",
              "      <th>3</th>\n",
              "      <td>kl</td>\n",
              "      <td>11</td>\n",
              "      <td>12</td>\n",
              "      <td>13</td>\n",
              "    </tr>\n",
              "  </tbody>\n",
              "</table>\n",
              "</div>"
            ],
            "text/plain": [
              "  name  sal  min_sal  max_sal\n",
              "0  abc    5        3        4\n",
              "1   ef    5        6        7\n",
              "2  ghi    8        9       10\n",
              "3   kl   11       12       13"
            ]
          },
          "metadata": {},
          "execution_count": 53
        }
      ]
    },
    {
      "cell_type": "code",
      "metadata": {
        "colab": {
          "base_uri": "https://localhost:8080/",
          "height": 175
        },
        "id": "Gftof2jF9nky",
        "outputId": "e7056627-58bc-4622-eac8-be83c9af748a"
      },
      "source": [
        "# get value\n",
        "df.at[3,'min'] # 12, 'min' column, third row \n",
        "df.iat[3,2] # 12, 'min' column, third row \n",
        "\n",
        "# Set value\n",
        "df.at[2,'min'] = 200 # Set 200 at 'min' column, second row \n",
        "df.iat[3,2] = 100 # set 100 at 'min' column, third row \n",
        "df.at[df['age']==5, 'name'] = 'kkkkkk' # all places where age==5\n",
        "\n",
        "# get value\n",
        "df.loc[df['age']>5] # all rows where age>5\n",
        "df.loc[df['age']>5, 'name'] # only name where age>5\n",
        "df.loc[df['age']>5, 'name':'min'] # all columns between where age>5\n",
        "\n",
        "# set value\n",
        "df.loc[df['age']==5, 'name'] = 'INDIA' # all places where age==5\n",
        "\n",
        "df.iloc[2:4] # selected rows\n",
        "df.iloc[:, [0,1,2]] # all rows, selected column"
      ],
      "execution_count": 26,
      "outputs": [
        {
          "output_type": "execute_result",
          "data": {
            "text/html": [
              "<div>\n",
              "<style scoped>\n",
              "    .dataframe tbody tr th:only-of-type {\n",
              "        vertical-align: middle;\n",
              "    }\n",
              "\n",
              "    .dataframe tbody tr th {\n",
              "        vertical-align: top;\n",
              "    }\n",
              "\n",
              "    .dataframe thead th {\n",
              "        text-align: right;\n",
              "    }\n",
              "</style>\n",
              "<table border=\"1\" class=\"dataframe\">\n",
              "  <thead>\n",
              "    <tr style=\"text-align: right;\">\n",
              "      <th></th>\n",
              "      <th>name</th>\n",
              "      <th>age</th>\n",
              "      <th>min</th>\n",
              "    </tr>\n",
              "  </thead>\n",
              "  <tbody>\n",
              "    <tr>\n",
              "      <th>0</th>\n",
              "      <td>INDIA</td>\n",
              "      <td>5</td>\n",
              "      <td>3</td>\n",
              "    </tr>\n",
              "    <tr>\n",
              "      <th>1</th>\n",
              "      <td>INDIA</td>\n",
              "      <td>5</td>\n",
              "      <td>6</td>\n",
              "    </tr>\n",
              "    <tr>\n",
              "      <th>2</th>\n",
              "      <td>ghi</td>\n",
              "      <td>8</td>\n",
              "      <td>9</td>\n",
              "    </tr>\n",
              "    <tr>\n",
              "      <th>3</th>\n",
              "      <td>jkl</td>\n",
              "      <td>11</td>\n",
              "      <td>12</td>\n",
              "    </tr>\n",
              "  </tbody>\n",
              "</table>\n",
              "</div>"
            ],
            "text/plain": [
              "    name  age  min\n",
              "0  INDIA    5    3\n",
              "1  INDIA    5    6\n",
              "2    ghi    8    9\n",
              "3    jkl   11   12"
            ]
          },
          "metadata": {},
          "execution_count": 26
        }
      ]
    },
    {
      "cell_type": "code",
      "metadata": {
        "id": "kr8dipRBMlPF"
      },
      "source": [
        "# select data for final training and testing for PrimaryDiagnosisCode starting with below code\n",
        "diabetes1 = original2[(original2['PrimaryDiagnosisCode'].str.startswith('E08')) | \n",
        "                      (original2['PrimaryDiagnosisCode'].str.startswith('E09')) |\n",
        "                      (original2['PrimaryDiagnosisCode'].str.startswith('E10')) |\n",
        "                      (original2['PrimaryDiagnosisCode'].str.startswith('E11'))\n",
        "                       ]\n",
        "codes = diabetes1['PrimaryDiagnosisCode'].unique()\n",
        "final_data = original2.loc[original2['PrimaryDiagnosisCode'].isin(codes)]"
      ],
      "execution_count": null,
      "outputs": []
    },
    {
      "cell_type": "code",
      "metadata": {
        "id": "3zJCH2OxOLmu"
      },
      "source": [
        "# conditional value set\n",
        "c1 = (df.PatientGender==gender_m) & (df.LabName==name_m) & (df.LabValue>=minValue_m) & (df.LabValue<=maxValue_m)\n",
        "df.loc[c1, 'LabValue'] = 1\n",
        "\n",
        "# replace all other valules to 0\n",
        "df.loc[(df['LabValue']!=1.0), 'LabValue'] = 0"
      ],
      "execution_count": null,
      "outputs": []
    },
    {
      "cell_type": "markdown",
      "metadata": {
        "id": "Z9vpVxf5D6PN"
      },
      "source": [
        "## Query"
      ]
    },
    {
      "cell_type": "code",
      "metadata": {
        "colab": {
          "base_uri": "https://localhost:8080/",
          "height": 112
        },
        "id": "9Tz62B7eAoYy",
        "outputId": "e2d5dc56-4051-4ff3-a146-c7c2afa83cb5"
      },
      "source": [
        "df.query('age>5')"
      ],
      "execution_count": 54,
      "outputs": [
        {
          "output_type": "execute_result",
          "data": {
            "text/html": [
              "<div>\n",
              "<style scoped>\n",
              "    .dataframe tbody tr th:only-of-type {\n",
              "        vertical-align: middle;\n",
              "    }\n",
              "\n",
              "    .dataframe tbody tr th {\n",
              "        vertical-align: top;\n",
              "    }\n",
              "\n",
              "    .dataframe thead th {\n",
              "        text-align: right;\n",
              "    }\n",
              "</style>\n",
              "<table border=\"1\" class=\"dataframe\">\n",
              "  <thead>\n",
              "    <tr style=\"text-align: right;\">\n",
              "      <th></th>\n",
              "      <th>name</th>\n",
              "      <th>age</th>\n",
              "      <th>min</th>\n",
              "      <th>max</th>\n",
              "    </tr>\n",
              "  </thead>\n",
              "  <tbody>\n",
              "    <tr>\n",
              "      <th>2</th>\n",
              "      <td>ghi</td>\n",
              "      <td>8</td>\n",
              "      <td>9</td>\n",
              "      <td>10</td>\n",
              "    </tr>\n",
              "    <tr>\n",
              "      <th>3</th>\n",
              "      <td>jkl</td>\n",
              "      <td>11</td>\n",
              "      <td>12</td>\n",
              "      <td>13</td>\n",
              "    </tr>\n",
              "  </tbody>\n",
              "</table>\n",
              "</div>"
            ],
            "text/plain": [
              "  name  age  min  max\n",
              "2  ghi    8    9   10\n",
              "3  jkl   11   12   13"
            ]
          },
          "metadata": {},
          "execution_count": 54
        }
      ]
    },
    {
      "cell_type": "markdown",
      "metadata": {
        "id": "gEJS9N0vFzkF"
      },
      "source": [
        "## Merge tables"
      ]
    },
    {
      "cell_type": "code",
      "metadata": {
        "colab": {
          "base_uri": "https://localhost:8080/",
          "height": 175
        },
        "id": "EAWsl6e0EC7i",
        "outputId": "9cf5280d-e201-449d-80cb-6267c84a9b3d"
      },
      "source": [
        "# left\n",
        "xx = pd.merge(df, df2, on='name', how='left')\n",
        "xx"
      ],
      "execution_count": 55,
      "outputs": [
        {
          "output_type": "execute_result",
          "data": {
            "text/html": [
              "<div>\n",
              "<style scoped>\n",
              "    .dataframe tbody tr th:only-of-type {\n",
              "        vertical-align: middle;\n",
              "    }\n",
              "\n",
              "    .dataframe tbody tr th {\n",
              "        vertical-align: top;\n",
              "    }\n",
              "\n",
              "    .dataframe thead th {\n",
              "        text-align: right;\n",
              "    }\n",
              "</style>\n",
              "<table border=\"1\" class=\"dataframe\">\n",
              "  <thead>\n",
              "    <tr style=\"text-align: right;\">\n",
              "      <th></th>\n",
              "      <th>name</th>\n",
              "      <th>age</th>\n",
              "      <th>min</th>\n",
              "      <th>max</th>\n",
              "      <th>sal</th>\n",
              "      <th>min_sal</th>\n",
              "      <th>max_sal</th>\n",
              "    </tr>\n",
              "  </thead>\n",
              "  <tbody>\n",
              "    <tr>\n",
              "      <th>0</th>\n",
              "      <td>abc</td>\n",
              "      <td>5</td>\n",
              "      <td>3</td>\n",
              "      <td>4</td>\n",
              "      <td>5.0</td>\n",
              "      <td>3.0</td>\n",
              "      <td>4.0</td>\n",
              "    </tr>\n",
              "    <tr>\n",
              "      <th>1</th>\n",
              "      <td>def</td>\n",
              "      <td>5</td>\n",
              "      <td>6</td>\n",
              "      <td>7</td>\n",
              "      <td>NaN</td>\n",
              "      <td>NaN</td>\n",
              "      <td>NaN</td>\n",
              "    </tr>\n",
              "    <tr>\n",
              "      <th>2</th>\n",
              "      <td>ghi</td>\n",
              "      <td>8</td>\n",
              "      <td>9</td>\n",
              "      <td>10</td>\n",
              "      <td>8.0</td>\n",
              "      <td>9.0</td>\n",
              "      <td>10.0</td>\n",
              "    </tr>\n",
              "    <tr>\n",
              "      <th>3</th>\n",
              "      <td>jkl</td>\n",
              "      <td>11</td>\n",
              "      <td>12</td>\n",
              "      <td>13</td>\n",
              "      <td>NaN</td>\n",
              "      <td>NaN</td>\n",
              "      <td>NaN</td>\n",
              "    </tr>\n",
              "  </tbody>\n",
              "</table>\n",
              "</div>"
            ],
            "text/plain": [
              "  name  age  min  max  sal  min_sal  max_sal\n",
              "0  abc    5    3    4  5.0      3.0      4.0\n",
              "1  def    5    6    7  NaN      NaN      NaN\n",
              "2  ghi    8    9   10  8.0      9.0     10.0\n",
              "3  jkl   11   12   13  NaN      NaN      NaN"
            ]
          },
          "metadata": {},
          "execution_count": 55
        }
      ]
    },
    {
      "cell_type": "code",
      "metadata": {
        "colab": {
          "base_uri": "https://localhost:8080/",
          "height": 175
        },
        "id": "R-0Q5tq2GbHr",
        "outputId": "0ec78418-e41b-45d4-da1a-14d241f0f32b"
      },
      "source": [
        "# right\n",
        "xx = pd.merge(df, df2, on='name', how='right')\n",
        "xx"
      ],
      "execution_count": 56,
      "outputs": [
        {
          "output_type": "execute_result",
          "data": {
            "text/html": [
              "<div>\n",
              "<style scoped>\n",
              "    .dataframe tbody tr th:only-of-type {\n",
              "        vertical-align: middle;\n",
              "    }\n",
              "\n",
              "    .dataframe tbody tr th {\n",
              "        vertical-align: top;\n",
              "    }\n",
              "\n",
              "    .dataframe thead th {\n",
              "        text-align: right;\n",
              "    }\n",
              "</style>\n",
              "<table border=\"1\" class=\"dataframe\">\n",
              "  <thead>\n",
              "    <tr style=\"text-align: right;\">\n",
              "      <th></th>\n",
              "      <th>name</th>\n",
              "      <th>age</th>\n",
              "      <th>min</th>\n",
              "      <th>max</th>\n",
              "      <th>sal</th>\n",
              "      <th>min_sal</th>\n",
              "      <th>max_sal</th>\n",
              "    </tr>\n",
              "  </thead>\n",
              "  <tbody>\n",
              "    <tr>\n",
              "      <th>0</th>\n",
              "      <td>abc</td>\n",
              "      <td>5.0</td>\n",
              "      <td>3.0</td>\n",
              "      <td>4.0</td>\n",
              "      <td>5</td>\n",
              "      <td>3</td>\n",
              "      <td>4</td>\n",
              "    </tr>\n",
              "    <tr>\n",
              "      <th>1</th>\n",
              "      <td>ef</td>\n",
              "      <td>NaN</td>\n",
              "      <td>NaN</td>\n",
              "      <td>NaN</td>\n",
              "      <td>5</td>\n",
              "      <td>6</td>\n",
              "      <td>7</td>\n",
              "    </tr>\n",
              "    <tr>\n",
              "      <th>2</th>\n",
              "      <td>ghi</td>\n",
              "      <td>8.0</td>\n",
              "      <td>9.0</td>\n",
              "      <td>10.0</td>\n",
              "      <td>8</td>\n",
              "      <td>9</td>\n",
              "      <td>10</td>\n",
              "    </tr>\n",
              "    <tr>\n",
              "      <th>3</th>\n",
              "      <td>kl</td>\n",
              "      <td>NaN</td>\n",
              "      <td>NaN</td>\n",
              "      <td>NaN</td>\n",
              "      <td>11</td>\n",
              "      <td>12</td>\n",
              "      <td>13</td>\n",
              "    </tr>\n",
              "  </tbody>\n",
              "</table>\n",
              "</div>"
            ],
            "text/plain": [
              "  name  age  min   max  sal  min_sal  max_sal\n",
              "0  abc  5.0  3.0   4.0    5        3        4\n",
              "1   ef  NaN  NaN   NaN    5        6        7\n",
              "2  ghi  8.0  9.0  10.0    8        9       10\n",
              "3   kl  NaN  NaN   NaN   11       12       13"
            ]
          },
          "metadata": {},
          "execution_count": 56
        }
      ]
    },
    {
      "cell_type": "code",
      "metadata": {
        "colab": {
          "base_uri": "https://localhost:8080/",
          "height": 112
        },
        "id": "gP-CDoh0HAtj",
        "outputId": "f3050629-1bfc-4430-cb9f-9efe8a9d8c45"
      },
      "source": [
        "# inner\n",
        "xx = pd.merge(df, df2, on='name', how='inner')\n",
        "xx"
      ],
      "execution_count": 57,
      "outputs": [
        {
          "output_type": "execute_result",
          "data": {
            "text/html": [
              "<div>\n",
              "<style scoped>\n",
              "    .dataframe tbody tr th:only-of-type {\n",
              "        vertical-align: middle;\n",
              "    }\n",
              "\n",
              "    .dataframe tbody tr th {\n",
              "        vertical-align: top;\n",
              "    }\n",
              "\n",
              "    .dataframe thead th {\n",
              "        text-align: right;\n",
              "    }\n",
              "</style>\n",
              "<table border=\"1\" class=\"dataframe\">\n",
              "  <thead>\n",
              "    <tr style=\"text-align: right;\">\n",
              "      <th></th>\n",
              "      <th>name</th>\n",
              "      <th>age</th>\n",
              "      <th>min</th>\n",
              "      <th>max</th>\n",
              "      <th>sal</th>\n",
              "      <th>min_sal</th>\n",
              "      <th>max_sal</th>\n",
              "    </tr>\n",
              "  </thead>\n",
              "  <tbody>\n",
              "    <tr>\n",
              "      <th>0</th>\n",
              "      <td>abc</td>\n",
              "      <td>5</td>\n",
              "      <td>3</td>\n",
              "      <td>4</td>\n",
              "      <td>5</td>\n",
              "      <td>3</td>\n",
              "      <td>4</td>\n",
              "    </tr>\n",
              "    <tr>\n",
              "      <th>1</th>\n",
              "      <td>ghi</td>\n",
              "      <td>8</td>\n",
              "      <td>9</td>\n",
              "      <td>10</td>\n",
              "      <td>8</td>\n",
              "      <td>9</td>\n",
              "      <td>10</td>\n",
              "    </tr>\n",
              "  </tbody>\n",
              "</table>\n",
              "</div>"
            ],
            "text/plain": [
              "  name  age  min  max  sal  min_sal  max_sal\n",
              "0  abc    5    3    4    5        3        4\n",
              "1  ghi    8    9   10    8        9       10"
            ]
          },
          "metadata": {},
          "execution_count": 57
        }
      ]
    },
    {
      "cell_type": "code",
      "metadata": {
        "colab": {
          "base_uri": "https://localhost:8080/",
          "height": 237
        },
        "id": "kaW0aw-bHGWb",
        "outputId": "ed4765f5-8522-41f6-b66c-2f9c163fdd05"
      },
      "source": [
        "# outer\n",
        "xx = pd.merge(df, df2, on='name', how='outer')\n",
        "xx"
      ],
      "execution_count": 58,
      "outputs": [
        {
          "output_type": "execute_result",
          "data": {
            "text/html": [
              "<div>\n",
              "<style scoped>\n",
              "    .dataframe tbody tr th:only-of-type {\n",
              "        vertical-align: middle;\n",
              "    }\n",
              "\n",
              "    .dataframe tbody tr th {\n",
              "        vertical-align: top;\n",
              "    }\n",
              "\n",
              "    .dataframe thead th {\n",
              "        text-align: right;\n",
              "    }\n",
              "</style>\n",
              "<table border=\"1\" class=\"dataframe\">\n",
              "  <thead>\n",
              "    <tr style=\"text-align: right;\">\n",
              "      <th></th>\n",
              "      <th>name</th>\n",
              "      <th>age</th>\n",
              "      <th>min</th>\n",
              "      <th>max</th>\n",
              "      <th>sal</th>\n",
              "      <th>min_sal</th>\n",
              "      <th>max_sal</th>\n",
              "    </tr>\n",
              "  </thead>\n",
              "  <tbody>\n",
              "    <tr>\n",
              "      <th>0</th>\n",
              "      <td>abc</td>\n",
              "      <td>5.0</td>\n",
              "      <td>3.0</td>\n",
              "      <td>4.0</td>\n",
              "      <td>5.0</td>\n",
              "      <td>3.0</td>\n",
              "      <td>4.0</td>\n",
              "    </tr>\n",
              "    <tr>\n",
              "      <th>1</th>\n",
              "      <td>def</td>\n",
              "      <td>5.0</td>\n",
              "      <td>6.0</td>\n",
              "      <td>7.0</td>\n",
              "      <td>NaN</td>\n",
              "      <td>NaN</td>\n",
              "      <td>NaN</td>\n",
              "    </tr>\n",
              "    <tr>\n",
              "      <th>2</th>\n",
              "      <td>ghi</td>\n",
              "      <td>8.0</td>\n",
              "      <td>9.0</td>\n",
              "      <td>10.0</td>\n",
              "      <td>8.0</td>\n",
              "      <td>9.0</td>\n",
              "      <td>10.0</td>\n",
              "    </tr>\n",
              "    <tr>\n",
              "      <th>3</th>\n",
              "      <td>jkl</td>\n",
              "      <td>11.0</td>\n",
              "      <td>12.0</td>\n",
              "      <td>13.0</td>\n",
              "      <td>NaN</td>\n",
              "      <td>NaN</td>\n",
              "      <td>NaN</td>\n",
              "    </tr>\n",
              "    <tr>\n",
              "      <th>4</th>\n",
              "      <td>ef</td>\n",
              "      <td>NaN</td>\n",
              "      <td>NaN</td>\n",
              "      <td>NaN</td>\n",
              "      <td>5.0</td>\n",
              "      <td>6.0</td>\n",
              "      <td>7.0</td>\n",
              "    </tr>\n",
              "    <tr>\n",
              "      <th>5</th>\n",
              "      <td>kl</td>\n",
              "      <td>NaN</td>\n",
              "      <td>NaN</td>\n",
              "      <td>NaN</td>\n",
              "      <td>11.0</td>\n",
              "      <td>12.0</td>\n",
              "      <td>13.0</td>\n",
              "    </tr>\n",
              "  </tbody>\n",
              "</table>\n",
              "</div>"
            ],
            "text/plain": [
              "  name   age   min   max   sal  min_sal  max_sal\n",
              "0  abc   5.0   3.0   4.0   5.0      3.0      4.0\n",
              "1  def   5.0   6.0   7.0   NaN      NaN      NaN\n",
              "2  ghi   8.0   9.0  10.0   8.0      9.0     10.0\n",
              "3  jkl  11.0  12.0  13.0   NaN      NaN      NaN\n",
              "4   ef   NaN   NaN   NaN   5.0      6.0      7.0\n",
              "5   kl   NaN   NaN   NaN  11.0     12.0     13.0"
            ]
          },
          "metadata": {},
          "execution_count": 58
        }
      ]
    },
    {
      "cell_type": "code",
      "metadata": {
        "id": "d7A3XmVRHLUj"
      },
      "source": [
        "# left\n",
        "xx = pd.merge(df, df2, on='name', how='left')\n",
        "xx"
      ],
      "execution_count": null,
      "outputs": []
    },
    {
      "cell_type": "markdown",
      "metadata": {
        "id": "paUMGhWQLKxO"
      },
      "source": [
        "## Missing values, Isnull and Drop columns"
      ]
    },
    {
      "cell_type": "code",
      "metadata": {
        "id": "eZcf6aLQLPEL"
      },
      "source": [
        "xx.drop(['min_sal', 'max_sal'], axis=1, inplace=True)\n",
        "\n",
        "#Check for nan vlaues\n",
        "data.isna().sum()\n",
        "\n",
        "# missing values\n",
        "data.isnull().sum()\n",
        "\n",
        "print(\"Unique patients\", len(patients['PatientID'].unique()))"
      ],
      "execution_count": 65,
      "outputs": []
    },
    {
      "cell_type": "code",
      "metadata": {
        "colab": {
          "base_uri": "https://localhost:8080/",
          "height": 237
        },
        "id": "ieLShIfyLUGb",
        "outputId": "6a3da128-8a79-4485-9e0b-b65b7ea84d71"
      },
      "source": [
        "xx"
      ],
      "execution_count": 66,
      "outputs": [
        {
          "output_type": "execute_result",
          "data": {
            "text/html": [
              "<div>\n",
              "<style scoped>\n",
              "    .dataframe tbody tr th:only-of-type {\n",
              "        vertical-align: middle;\n",
              "    }\n",
              "\n",
              "    .dataframe tbody tr th {\n",
              "        vertical-align: top;\n",
              "    }\n",
              "\n",
              "    .dataframe thead th {\n",
              "        text-align: right;\n",
              "    }\n",
              "</style>\n",
              "<table border=\"1\" class=\"dataframe\">\n",
              "  <thead>\n",
              "    <tr style=\"text-align: right;\">\n",
              "      <th></th>\n",
              "      <th>name</th>\n",
              "      <th>age</th>\n",
              "      <th>min</th>\n",
              "      <th>max</th>\n",
              "      <th>sal</th>\n",
              "    </tr>\n",
              "  </thead>\n",
              "  <tbody>\n",
              "    <tr>\n",
              "      <th>0</th>\n",
              "      <td>abc</td>\n",
              "      <td>5.0</td>\n",
              "      <td>3.0</td>\n",
              "      <td>4.0</td>\n",
              "      <td>5.0</td>\n",
              "    </tr>\n",
              "    <tr>\n",
              "      <th>1</th>\n",
              "      <td>def</td>\n",
              "      <td>5.0</td>\n",
              "      <td>6.0</td>\n",
              "      <td>7.0</td>\n",
              "      <td>NaN</td>\n",
              "    </tr>\n",
              "    <tr>\n",
              "      <th>2</th>\n",
              "      <td>ghi</td>\n",
              "      <td>8.0</td>\n",
              "      <td>9.0</td>\n",
              "      <td>10.0</td>\n",
              "      <td>8.0</td>\n",
              "    </tr>\n",
              "    <tr>\n",
              "      <th>3</th>\n",
              "      <td>jkl</td>\n",
              "      <td>11.0</td>\n",
              "      <td>12.0</td>\n",
              "      <td>13.0</td>\n",
              "      <td>NaN</td>\n",
              "    </tr>\n",
              "    <tr>\n",
              "      <th>4</th>\n",
              "      <td>ef</td>\n",
              "      <td>NaN</td>\n",
              "      <td>NaN</td>\n",
              "      <td>NaN</td>\n",
              "      <td>5.0</td>\n",
              "    </tr>\n",
              "    <tr>\n",
              "      <th>5</th>\n",
              "      <td>kl</td>\n",
              "      <td>NaN</td>\n",
              "      <td>NaN</td>\n",
              "      <td>NaN</td>\n",
              "      <td>11.0</td>\n",
              "    </tr>\n",
              "  </tbody>\n",
              "</table>\n",
              "</div>"
            ],
            "text/plain": [
              "  name   age   min   max   sal\n",
              "0  abc   5.0   3.0   4.0   5.0\n",
              "1  def   5.0   6.0   7.0   NaN\n",
              "2  ghi   8.0   9.0  10.0   8.0\n",
              "3  jkl  11.0  12.0  13.0   NaN\n",
              "4   ef   NaN   NaN   NaN   5.0\n",
              "5   kl   NaN   NaN   NaN  11.0"
            ]
          },
          "metadata": {},
          "execution_count": 66
        }
      ]
    },
    {
      "cell_type": "code",
      "metadata": {
        "id": "9eRiFS2qLkVr"
      },
      "source": [
        ""
      ],
      "execution_count": null,
      "outputs": []
    },
    {
      "cell_type": "markdown",
      "metadata": {
        "id": "vyP9OLzeL7PW"
      },
      "source": [
        "## One hot "
      ]
    },
    {
      "cell_type": "code",
      "metadata": {
        "id": "dYM36diyL92U"
      },
      "source": [
        "one_hot_gender = pd.get_dummies(enccode_df['PatientGender'], prefix='gender')\n",
        "orig=orig.join(one_hot_gender)\n",
        "orig = orig.drop(['PatientGender', 'PatientRace'], axis = 1)"
      ],
      "execution_count": null,
      "outputs": []
    },
    {
      "cell_type": "markdown",
      "metadata": {
        "id": "tnJGYaeLNAfN"
      },
      "source": [
        "## Others"
      ]
    },
    {
      "cell_type": "code",
      "metadata": {
        "id": "LwgwWbc8NCAL"
      },
      "source": [
        "# Single patient data in the Lab\n",
        "code = labs[labs.PatientID.str.startswith('915BC24E-8C44-4D33-A386-CEA965B83F32')] \n",
        "code.nunique()\n",
        "\n",
        "uniquelab = labname_value['LabName'].unique()\n",
        "# sort the lab name values by name\n",
        "uniquelab = sorted(uniquelab)\n",
        "\n",
        "# Unique admission ID's\n",
        "admission['AdmissionID'].unique()\n",
        "\n"
      ],
      "execution_count": null,
      "outputs": []
    },
    {
      "cell_type": "code",
      "metadata": {
        "id": "2AYiv59dNJoN"
      },
      "source": [
        "# Age calculation, function to find and add the Age to the merged dataframe\n",
        "def findAge(dob):\n",
        "  date_time_obj = datetime.datetime.strptime(dob, '%Y-%m-%d %H:%M:%S.%f')\n",
        "  birth_date = date_time_obj.date()\n",
        "  end_date = datetime.date(2021, 1, 1)\n",
        "  time_difference = end_date - birth_date\n",
        "  age = time_difference.days\n",
        "  #print(\"days\",age)\n",
        "  #print(int(age/365.2425))\n",
        "  return int(age/365.2425)\n",
        "\n",
        "ages=[]\n",
        "for value in range(len(patients['PatientDateOfBirth'])):\n",
        "    datecol = patients['PatientDateOfBirth'][value]\n",
        "    ages.append(findAge(datecol))    \n",
        "\n",
        "# Add age column after DOB\n",
        "patients.insert(3, \"PatientAge\", ages, True) \n",
        "patients.head(2)"
      ],
      "execution_count": null,
      "outputs": []
    },
    {
      "cell_type": "code",
      "metadata": {
        "id": "Jih-kMO9QsdO"
      },
      "source": [
        "# The number of days a patient was admitted for\n",
        "df = pd.DataFrame(columns=[\"one\", \"two\"])\n",
        "df.one=pd.to_datetime(admission['AdmissionStartDate'])\n",
        "df.two=pd.to_datetime(admission['AdmissionEndDate'])\n",
        "difference = (df.two - df.one)\n",
        "df['diff'] = difference.dt.days\n",
        "df['diff'].describe()"
      ],
      "execution_count": null,
      "outputs": []
    },
    {
      "cell_type": "code",
      "metadata": {
        "id": "iDl-6hWuRFx2"
      },
      "source": [
        "# Correlation\n",
        "correlation = labs['AdmissionID'].corr(labs['AdmissionID'])\n",
        "correlation\n",
        "\n",
        "labs.corr()"
      ],
      "execution_count": null,
      "outputs": []
    },
    {
      "cell_type": "code",
      "metadata": {
        "id": "aHdU_ISFRjHG"
      },
      "source": [
        "# Unique diagnosis codes\n",
        "codes=admissionDiagnoses['PrimaryDiagnosisCode'].unique().size\n",
        "print('Unique Diagnosis codes', codes)\n",
        "\n",
        "# Get unique record count\n",
        "admissionDiagnoses.nunique(axis=0)\n",
        "\n",
        "# Get Diabetes patient details\n",
        "# E08, E09, E10, E11, the codes from E08-E09 are for diabetes\n",
        "code = admissionDiagnoses[admissionDiagnoses.PrimaryDiagnosisCode.str.startswith('E08')] \n",
        "code.head(10)\n",
        "\n",
        "# Get patients with diabetes diagnosis\n",
        "diabetescode = ['E08', 'E09', 'E10', 'E11']\n",
        "diabetes = admissionDiagnoses[admissionDiagnoses.PrimaryDiagnosisDescription.str.startswith('Diabetes')]\n",
        "#len(pulmonarydisdf)\n",
        "diabetes.head(10)\n",
        "len(diabetes)"
      ],
      "execution_count": null,
      "outputs": []
    }
  ]
}