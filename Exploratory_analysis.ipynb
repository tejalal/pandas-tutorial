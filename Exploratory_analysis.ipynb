{
  "nbformat": 4,
  "nbformat_minor": 0,
  "metadata": {
    "colab": {
      "name": "Exploratory_analysis.ipynb",
      "provenance": [],
      "collapsed_sections": []
    },
    "kernelspec": {
      "name": "python3",
      "display_name": "Python 3"
    },
    "language_info": {
      "name": "python"
    }
  },
  "cells": [
    {
      "cell_type": "markdown",
      "metadata": {
        "id": "K_9UteLla-Sw"
      },
      "source": [
        "# Exploratory analysis"
      ]
    },
    {
      "cell_type": "code",
      "metadata": {
        "id": "Op--lVH1a7ra"
      },
      "source": [
        "import pandas as pd\n",
        "import matplotlib.pyplot as plt\n",
        "import datetime\n",
        "import seaborn as sns\n",
        "%matplotlib inline"
      ],
      "execution_count": 11,
      "outputs": []
    },
    {
      "cell_type": "code",
      "metadata": {
        "colab": {
          "base_uri": "https://localhost:8080/"
        },
        "id": "U7Dojvt0bmub",
        "outputId": "a3cd423f-e86d-43d1-8ff4-7ccedc429691"
      },
      "source": [
        "# load google drive\n",
        "from google.colab import drive\n",
        "drive.mount('/content/drive')"
      ],
      "execution_count": 12,
      "outputs": [
        {
          "output_type": "stream",
          "name": "stdout",
          "text": [
            "Drive already mounted at /content/drive; to attempt to forcibly remount, call drive.mount(\"/content/drive\", force_remount=True).\n"
          ]
        }
      ]
    },
    {
      "cell_type": "markdown",
      "metadata": {
        "id": "Q1wHp83IhPqA"
      },
      "source": [
        "## Table 1 PatientCorePopulatedTable"
      ]
    },
    {
      "cell_type": "code",
      "metadata": {
        "id": "GqrSjFvFhRi4",
        "colab": {
          "base_uri": "https://localhost:8080/",
          "height": 206
        },
        "outputId": "4a69071d-742f-4291-d4d3-0217248f0841"
      },
      "source": [
        "# load data\n",
        "patients = pd.read_csv('/content/drive/MyDrive/Molecular/PatientCorePopulatedTable.txt', delimiter='\\t', ) \n",
        "# skiprows=[0], header=None, names=names\n",
        "patients.head()"
      ],
      "execution_count": 13,
      "outputs": [
        {
          "output_type": "execute_result",
          "data": {
            "text/html": [
              "<div>\n",
              "<style scoped>\n",
              "    .dataframe tbody tr th:only-of-type {\n",
              "        vertical-align: middle;\n",
              "    }\n",
              "\n",
              "    .dataframe tbody tr th {\n",
              "        vertical-align: top;\n",
              "    }\n",
              "\n",
              "    .dataframe thead th {\n",
              "        text-align: right;\n",
              "    }\n",
              "</style>\n",
              "<table border=\"1\" class=\"dataframe\">\n",
              "  <thead>\n",
              "    <tr style=\"text-align: right;\">\n",
              "      <th></th>\n",
              "      <th>PatientID</th>\n",
              "      <th>PatientGender</th>\n",
              "      <th>PatientDateOfBirth</th>\n",
              "      <th>PatientRace</th>\n",
              "      <th>PatientMaritalStatus</th>\n",
              "      <th>PatientLanguage</th>\n",
              "      <th>PatientPopulationPercentageBelowPoverty</th>\n",
              "    </tr>\n",
              "  </thead>\n",
              "  <tbody>\n",
              "    <tr>\n",
              "      <th>0</th>\n",
              "      <td>3A3C2AFB-FFFA-4E69-B4E6-73C1245D5D12</td>\n",
              "      <td>Male</td>\n",
              "      <td>1975-01-04 14:49:59.587</td>\n",
              "      <td>White</td>\n",
              "      <td>Single</td>\n",
              "      <td>Unknown</td>\n",
              "      <td>15.60</td>\n",
              "    </tr>\n",
              "    <tr>\n",
              "      <th>1</th>\n",
              "      <td>801AFB51-036F-40E3-BDFE-FED4844BE275</td>\n",
              "      <td>Male</td>\n",
              "      <td>1964-09-06 13:15:43.043</td>\n",
              "      <td>White</td>\n",
              "      <td>Unknown</td>\n",
              "      <td>English</td>\n",
              "      <td>13.23</td>\n",
              "    </tr>\n",
              "    <tr>\n",
              "      <th>2</th>\n",
              "      <td>366B0CC6-18AC-45DD-9AD4-BE884FE3A299</td>\n",
              "      <td>Female</td>\n",
              "      <td>1953-01-14 06:00:19.330</td>\n",
              "      <td>White</td>\n",
              "      <td>Married</td>\n",
              "      <td>English</td>\n",
              "      <td>12.11</td>\n",
              "    </tr>\n",
              "    <tr>\n",
              "      <th>3</th>\n",
              "      <td>DBB78149-D86C-435E-82C4-341999FD0719</td>\n",
              "      <td>Female</td>\n",
              "      <td>1986-04-28 12:42:02.007</td>\n",
              "      <td>Unknown</td>\n",
              "      <td>Unknown</td>\n",
              "      <td>Unknown</td>\n",
              "      <td>95.80</td>\n",
              "    </tr>\n",
              "    <tr>\n",
              "      <th>4</th>\n",
              "      <td>2C6269F4-71F8-4C07-A905-C08E9A3524C2</td>\n",
              "      <td>Female</td>\n",
              "      <td>1963-08-26 10:57:55.183</td>\n",
              "      <td>White</td>\n",
              "      <td>Unknown</td>\n",
              "      <td>English</td>\n",
              "      <td>18.08</td>\n",
              "    </tr>\n",
              "  </tbody>\n",
              "</table>\n",
              "</div>"
            ],
            "text/plain": [
              "                              PatientID  ... PatientPopulationPercentageBelowPoverty\n",
              "0  3A3C2AFB-FFFA-4E69-B4E6-73C1245D5D12  ...                                   15.60\n",
              "1  801AFB51-036F-40E3-BDFE-FED4844BE275  ...                                   13.23\n",
              "2  366B0CC6-18AC-45DD-9AD4-BE884FE3A299  ...                                   12.11\n",
              "3  DBB78149-D86C-435E-82C4-341999FD0719  ...                                   95.80\n",
              "4  2C6269F4-71F8-4C07-A905-C08E9A3524C2  ...                                   18.08\n",
              "\n",
              "[5 rows x 7 columns]"
            ]
          },
          "metadata": {},
          "execution_count": 13
        }
      ]
    },
    {
      "cell_type": "code",
      "metadata": {
        "id": "awCnd8nKh0sb",
        "colab": {
          "base_uri": "https://localhost:8080/"
        },
        "outputId": "6c6244f2-50c9-48e3-ab61-45d3eb7ae8a4"
      },
      "source": [
        "print(\"Shape\", patients.shape)\n",
        "print(\"Size\", patients.size)"
      ],
      "execution_count": 14,
      "outputs": [
        {
          "output_type": "stream",
          "name": "stdout",
          "text": [
            "Shape (10000, 7)\n",
            "Size 70000\n"
          ]
        }
      ]
    },
    {
      "cell_type": "code",
      "metadata": {
        "id": "7Xh7uAf-iNqV",
        "colab": {
          "base_uri": "https://localhost:8080/"
        },
        "outputId": "47e4452e-47ab-48df-9d47-60c23ae1de57"
      },
      "source": [
        "# mssing values\n",
        "patients.isnull().sum()"
      ],
      "execution_count": 15,
      "outputs": [
        {
          "output_type": "execute_result",
          "data": {
            "text/plain": [
              "PatientID                                  0\n",
              "PatientGender                              0\n",
              "PatientDateOfBirth                         0\n",
              "PatientRace                                0\n",
              "PatientMaritalStatus                       0\n",
              "PatientLanguage                            0\n",
              "PatientPopulationPercentageBelowPoverty    0\n",
              "dtype: int64"
            ]
          },
          "metadata": {},
          "execution_count": 15
        }
      ]
    },
    {
      "cell_type": "code",
      "metadata": {
        "id": "ynztlCcEjN0T",
        "colab": {
          "base_uri": "https://localhost:8080/"
        },
        "outputId": "e60f8e6d-ebaa-4433-de98-c63ca925ca34"
      },
      "source": [
        "print(\"Unique patients\", len(patients['PatientID'].unique()))"
      ],
      "execution_count": 16,
      "outputs": [
        {
          "output_type": "stream",
          "name": "stdout",
          "text": [
            "Unique patients 10000\n"
          ]
        }
      ]
    },
    {
      "cell_type": "code",
      "metadata": {
        "id": "sGPetbuBiNNH",
        "colab": {
          "base_uri": "https://localhost:8080/",
          "height": 296
        },
        "outputId": "1c4aa901-179a-4254-93e6-dd36f332f54f"
      },
      "source": [
        "#male_female = patients.groupby('PatientGender').size()\n",
        "sns.countplot(x='PatientGender',data=patients)"
      ],
      "execution_count": 17,
      "outputs": [
        {
          "output_type": "execute_result",
          "data": {
            "text/plain": [
              "<matplotlib.axes._subplots.AxesSubplot at 0x7f90dbb5ca50>"
            ]
          },
          "metadata": {},
          "execution_count": 17
        },
        {
          "output_type": "display_data",
          "data": {
            "image/png": "[encoded data removed]",
            "text/plain": [
              "<Figure size 432x288 with 1 Axes>"
            ]
          },
          "metadata": {
            "needs_background": "light"
          }
        }
      ]
    },
    {
      "cell_type": "code",
      "metadata": {
        "id": "gNswShr_h6ao",
        "colab": {
          "base_uri": "https://localhost:8080/"
        },
        "outputId": "8648a0f2-547e-4982-e025-752fbcf58780"
      },
      "source": [
        "patients.groupby('PatientRace').size()"
      ],
      "execution_count": 18,
      "outputs": [
        {
          "output_type": "execute_result",
          "data": {
            "text/plain": [
              "PatientRace\n",
              "African American    1500\n",
              "Asian               2300\n",
              "Unknown             1300\n",
              "White               4900\n",
              "dtype: int64"
            ]
          },
          "metadata": {},
          "execution_count": 18
        }
      ]
    },
    {
      "cell_type": "code",
      "metadata": {
        "id": "6G5CLsqAh6en",
        "colab": {
          "base_uri": "https://localhost:8080/"
        },
        "outputId": "5e6b1ae6-023f-4181-8d82-a201ce732d44"
      },
      "source": [
        "patients.groupby('PatientMaritalStatus').size()"
      ],
      "execution_count": 19,
      "outputs": [
        {
          "output_type": "execute_result",
          "data": {
            "text/plain": [
              "PatientMaritalStatus\n",
              "Divorced     1100\n",
              "Married      4500\n",
              "Separated     500\n",
              "Single       3200\n",
              "Unknown       600\n",
              "Widowed       100\n",
              "dtype: int64"
            ]
          },
          "metadata": {},
          "execution_count": 19
        }
      ]
    },
    {
      "cell_type": "code",
      "metadata": {
        "id": "DIuE31echmkQ"
      },
      "source": [
        "# function to find the age\n",
        "def findAge(dob):\n",
        "  date_time_obj = datetime.datetime.strptime(dob, '%Y-%m-%d %H:%M:%S.%f')\n",
        "  birth_date = date_time_obj.date()\n",
        "  end_date = datetime.date(2021, 1, 1)\n",
        "  time_difference = end_date - birth_date\n",
        "  age = time_difference.days\n",
        "  #print(\"days\",age)\n",
        "  #print(int(age/365.2425))\n",
        "  return int(age/365.2425)"
      ],
      "execution_count": 20,
      "outputs": []
    },
    {
      "cell_type": "code",
      "metadata": {
        "id": "VvQyi6jliO08",
        "colab": {
          "base_uri": "https://localhost:8080/",
          "height": 206
        },
        "outputId": "0cc509a9-e868-4a8d-f2b3-f52fe62e399b"
      },
      "source": [
        "ages=[]\n",
        "for value in range(len(patients['PatientDateOfBirth'])):\n",
        "    datecol = patients['PatientDateOfBirth'][value]\n",
        "    dd=findAge(datecol)\n",
        "    ages.append(dd)    \n",
        "#patients['PatientAge'] = ages\n",
        "patients.insert(3, \"AgeNew\", ages, True) # add age column after DOB\n",
        "patients.head()"
      ],
      "execution_count": 21,
      "outputs": [
        {
          "output_type": "execute_result",
          "data": {
            "text/html": [
              "<div>\n",
              "<style scoped>\n",
              "    .dataframe tbody tr th:only-of-type {\n",
              "        vertical-align: middle;\n",
              "    }\n",
              "\n",
              "    .dataframe tbody tr th {\n",
              "        vertical-align: top;\n",
              "    }\n",
              "\n",
              "    .dataframe thead th {\n",
              "        text-align: right;\n",
              "    }\n",
              "</style>\n",
              "<table border=\"1\" class=\"dataframe\">\n",
              "  <thead>\n",
              "    <tr style=\"text-align: right;\">\n",
              "      <th></th>\n",
              "      <th>PatientID</th>\n",
              "      <th>PatientGender</th>\n",
              "      <th>PatientDateOfBirth</th>\n",
              "      <th>AgeNew</th>\n",
              "      <th>PatientRace</th>\n",
              "      <th>PatientMaritalStatus</th>\n",
              "      <th>PatientLanguage</th>\n",
              "      <th>PatientPopulationPercentageBelowPoverty</th>\n",
              "    </tr>\n",
              "  </thead>\n",
              "  <tbody>\n",
              "    <tr>\n",
              "      <th>0</th>\n",
              "      <td>3A3C2AFB-FFFA-4E69-B4E6-73C1245D5D12</td>\n",
              "      <td>Male</td>\n",
              "      <td>1975-01-04 14:49:59.587</td>\n",
              "      <td>45</td>\n",
              "      <td>White</td>\n",
              "      <td>Single</td>\n",
              "      <td>Unknown</td>\n",
              "      <td>15.60</td>\n",
              "    </tr>\n",
              "    <tr>\n",
              "      <th>1</th>\n",
              "      <td>801AFB51-036F-40E3-BDFE-FED4844BE275</td>\n",
              "      <td>Male</td>\n",
              "      <td>1964-09-06 13:15:43.043</td>\n",
              "      <td>56</td>\n",
              "      <td>White</td>\n",
              "      <td>Unknown</td>\n",
              "      <td>English</td>\n",
              "      <td>13.23</td>\n",
              "    </tr>\n",
              "    <tr>\n",
              "      <th>2</th>\n",
              "      <td>366B0CC6-18AC-45DD-9AD4-BE884FE3A299</td>\n",
              "      <td>Female</td>\n",
              "      <td>1953-01-14 06:00:19.330</td>\n",
              "      <td>67</td>\n",
              "      <td>White</td>\n",
              "      <td>Married</td>\n",
              "      <td>English</td>\n",
              "      <td>12.11</td>\n",
              "    </tr>\n",
              "    <tr>\n",
              "      <th>3</th>\n",
              "      <td>DBB78149-D86C-435E-82C4-341999FD0719</td>\n",
              "      <td>Female</td>\n",
              "      <td>1986-04-28 12:42:02.007</td>\n",
              "      <td>34</td>\n",
              "      <td>Unknown</td>\n",
              "      <td>Unknown</td>\n",
              "      <td>Unknown</td>\n",
              "      <td>95.80</td>\n",
              "    </tr>\n",
              "    <tr>\n",
              "      <th>4</th>\n",
              "      <td>2C6269F4-71F8-4C07-A905-C08E9A3524C2</td>\n",
              "      <td>Female</td>\n",
              "      <td>1963-08-26 10:57:55.183</td>\n",
              "      <td>57</td>\n",
              "      <td>White</td>\n",
              "      <td>Unknown</td>\n",
              "      <td>English</td>\n",
              "      <td>18.08</td>\n",
              "    </tr>\n",
              "  </tbody>\n",
              "</table>\n",
              "</div>"
            ],
            "text/plain": [
              "                              PatientID  ... PatientPopulationPercentageBelowPoverty\n",
              "0  3A3C2AFB-FFFA-4E69-B4E6-73C1245D5D12  ...                                   15.60\n",
              "1  801AFB51-036F-40E3-BDFE-FED4844BE275  ...                                   13.23\n",
              "2  366B0CC6-18AC-45DD-9AD4-BE884FE3A299  ...                                   12.11\n",
              "3  DBB78149-D86C-435E-82C4-341999FD0719  ...                                   95.80\n",
              "4  2C6269F4-71F8-4C07-A905-C08E9A3524C2  ...                                   18.08\n",
              "\n",
              "[5 rows x 8 columns]"
            ]
          },
          "metadata": {},
          "execution_count": 21
        }
      ]
    },
    {
      "cell_type": "code",
      "metadata": {
        "id": "eypcILRzmxDF",
        "colab": {
          "base_uri": "https://localhost:8080/"
        },
        "outputId": "bb1f5d12-2fb3-44e5-c38b-231c3d03a892"
      },
      "source": [
        "# the details of the patient Age\n",
        "patients['AgeNew'].describe()"
      ],
      "execution_count": 22,
      "outputs": [
        {
          "output_type": "execute_result",
          "data": {
            "text/plain": [
              "count    10000.000000\n",
              "mean        62.834700\n",
              "std         17.232332\n",
              "min         31.000000\n",
              "25%         50.750000\n",
              "50%         61.000000\n",
              "75%         75.000000\n",
              "max        101.000000\n",
              "Name: AgeNew, dtype: float64"
            ]
          },
          "metadata": {},
          "execution_count": 22
        }
      ]
    },
    {
      "cell_type": "code",
      "metadata": {
        "id": "oc9RziCXnl3p"
      },
      "source": [
        "# Gender-Age histogram/distribution\n",
        "#patients.groupby('PatientGender').AgeNew.hist()"
      ],
      "execution_count": 23,
      "outputs": []
    },
    {
      "cell_type": "code",
      "metadata": {
        "id": "mwvTmvBZ4TTL",
        "colab": {
          "base_uri": "https://localhost:8080/",
          "height": 296
        },
        "outputId": "e5760088-be05-460e-cf54-066a97300ee3"
      },
      "source": [
        "# patients age distribution\n",
        "sns.histplot(patients['AgeNew']) # histplot"
      ],
      "execution_count": 24,
      "outputs": [
        {
          "output_type": "execute_result",
          "data": {
            "text/plain": [
              "<matplotlib.axes._subplots.AxesSubplot at 0x7f90db4ce290>"
            ]
          },
          "metadata": {},
          "execution_count": 24
        },
        {
          "output_type": "display_data",
          "data": {
            "image/png": "[encoded data removed]",
            "text/plain": [
              "<Figure size 432x288 with 1 Axes>"
            ]
          },
          "metadata": {
            "needs_background": "light"
          }
        }
      ]
    },
    {
      "cell_type": "code",
      "metadata": {
        "id": "cbNTiMBu5aw-",
        "colab": {
          "base_uri": "https://localhost:8080/",
          "height": 296
        },
        "outputId": "4de9426b-9592-4f2e-93b7-f5d3b2b9b275"
      },
      "source": [
        "# patients as per Race, White\n",
        "sns.countplot(x='PatientRace',data=patients)"
      ],
      "execution_count": 25,
      "outputs": [
        {
          "output_type": "execute_result",
          "data": {
            "text/plain": [
              "<matplotlib.axes._subplots.AxesSubplot at 0x7f90da9a5fd0>"
            ]
          },
          "metadata": {},
          "execution_count": 25
        },
        {
          "output_type": "display_data",
          "data": {
            "image/png": "[encoded data removed]",
            "text/plain": [
              "<Figure size 432x288 with 1 Axes>"
            ]
          },
          "metadata": {
            "needs_background": "light"
          }
        }
      ]
    },
    {
      "cell_type": "code",
      "metadata": {
        "id": "L0wXfmSY30Ar",
        "colab": {
          "base_uri": "https://localhost:8080/",
          "height": 296
        },
        "outputId": "6ab82374-b4cc-4621-99cf-cce5c8a95d15"
      },
      "source": [
        "# Patints distribution according to the marital status\n",
        "sns.countplot(x='PatientMaritalStatus',data=patients)"
      ],
      "execution_count": 26,
      "outputs": [
        {
          "output_type": "execute_result",
          "data": {
            "text/plain": [
              "<matplotlib.axes._subplots.AxesSubplot at 0x7f90da908c50>"
            ]
          },
          "metadata": {},
          "execution_count": 26
        },
        {
          "output_type": "display_data",
          "data": {
            "image/png": "[encoded data removed]",
            "text/plain": [
              "<Figure size 432x288 with 1 Axes>"
            ]
          },
          "metadata": {
            "needs_background": "light"
          }
        }
      ]
    },
    {
      "cell_type": "markdown",
      "metadata": {
        "id": "Fo1-ALp7grOb"
      },
      "source": [
        "## Table 2 (AdmissionsCorePopulatedTable)"
      ]
    },
    {
      "cell_type": "code",
      "metadata": {
        "id": "HJ-TSaB0cTsu",
        "colab": {
          "base_uri": "https://localhost:8080/",
          "height": 206
        },
        "outputId": "2806443f-4260-4bf4-bf7c-f01b0371fe05"
      },
      "source": [
        "# load data\n",
        "admission = pd.read_csv('/content/drive/MyDrive/Molecular/AdmissionsCorePopulatedTable.txt', delimiter='\\t', ) \n",
        "# skiprows=[0], header=None, names=names\n",
        "admission.head()"
      ],
      "execution_count": 27,
      "outputs": [
        {
          "output_type": "execute_result",
          "data": {
            "text/html": [
              "<div>\n",
              "<style scoped>\n",
              "    .dataframe tbody tr th:only-of-type {\n",
              "        vertical-align: middle;\n",
              "    }\n",
              "\n",
              "    .dataframe tbody tr th {\n",
              "        vertical-align: top;\n",
              "    }\n",
              "\n",
              "    .dataframe thead th {\n",
              "        text-align: right;\n",
              "    }\n",
              "</style>\n",
              "<table border=\"1\" class=\"dataframe\">\n",
              "  <thead>\n",
              "    <tr style=\"text-align: right;\">\n",
              "      <th></th>\n",
              "      <th>PatientID</th>\n",
              "      <th>AdmissionID</th>\n",
              "      <th>AdmissionStartDate</th>\n",
              "      <th>AdmissionEndDate</th>\n",
              "    </tr>\n",
              "  </thead>\n",
              "  <tbody>\n",
              "    <tr>\n",
              "      <th>0</th>\n",
              "      <td>43556DC2-BCFC-45A8-84C3-1D3E4A11B02F</td>\n",
              "      <td>1</td>\n",
              "      <td>1974-07-26 15:05:30.333</td>\n",
              "      <td>1974-07-30 22:27:44.987</td>\n",
              "    </tr>\n",
              "    <tr>\n",
              "      <th>1</th>\n",
              "      <td>43556DC2-BCFC-45A8-84C3-1D3E4A11B02F</td>\n",
              "      <td>2</td>\n",
              "      <td>1983-11-12 03:34:39.083</td>\n",
              "      <td>1983-11-30 19:05:54.040</td>\n",
              "    </tr>\n",
              "    <tr>\n",
              "      <th>2</th>\n",
              "      <td>43556DC2-BCFC-45A8-84C3-1D3E4A11B02F</td>\n",
              "      <td>3</td>\n",
              "      <td>1998-09-28 12:08:17.843</td>\n",
              "      <td>1998-10-08 12:56:31.233</td>\n",
              "    </tr>\n",
              "    <tr>\n",
              "      <th>3</th>\n",
              "      <td>43556DC2-BCFC-45A8-84C3-1D3E4A11B02F</td>\n",
              "      <td>4</td>\n",
              "      <td>1999-04-03 01:49:32.610</td>\n",
              "      <td>1999-04-09 14:04:29.210</td>\n",
              "    </tr>\n",
              "    <tr>\n",
              "      <th>4</th>\n",
              "      <td>43556DC2-BCFC-45A8-84C3-1D3E4A11B02F</td>\n",
              "      <td>5</td>\n",
              "      <td>2001-11-26 03:07:07.303</td>\n",
              "      <td>2001-12-01 08:22:03.783</td>\n",
              "    </tr>\n",
              "  </tbody>\n",
              "</table>\n",
              "</div>"
            ],
            "text/plain": [
              "                              PatientID  ...         AdmissionEndDate\n",
              "0  43556DC2-BCFC-45A8-84C3-1D3E4A11B02F  ...  1974-07-30 22:27:44.987\n",
              "1  43556DC2-BCFC-45A8-84C3-1D3E4A11B02F  ...  1983-11-30 19:05:54.040\n",
              "2  43556DC2-BCFC-45A8-84C3-1D3E4A11B02F  ...  1998-10-08 12:56:31.233\n",
              "3  43556DC2-BCFC-45A8-84C3-1D3E4A11B02F  ...  1999-04-09 14:04:29.210\n",
              "4  43556DC2-BCFC-45A8-84C3-1D3E4A11B02F  ...  2001-12-01 08:22:03.783\n",
              "\n",
              "[5 rows x 4 columns]"
            ]
          },
          "metadata": {},
          "execution_count": 27
        }
      ]
    },
    {
      "cell_type": "code",
      "metadata": {
        "id": "0SGzELzbtBZQ",
        "colab": {
          "base_uri": "https://localhost:8080/"
        },
        "outputId": "62b2ffaf-cc87-4cbc-e079-8aa7638f457e"
      },
      "source": [
        "# Unique admission ID's\n",
        "admission['AdmissionID'].unique()"
      ],
      "execution_count": 28,
      "outputs": [
        {
          "output_type": "execute_result",
          "data": {
            "text/plain": [
              "array([ 1,  2,  3,  4,  5,  6,  7,  8,  9, 10, 11, 12])"
            ]
          },
          "metadata": {},
          "execution_count": 28
        }
      ]
    },
    {
      "cell_type": "code",
      "metadata": {
        "id": "QXO749Tmsxxk",
        "colab": {
          "base_uri": "https://localhost:8080/",
          "height": 457
        },
        "outputId": "7ef89857-f2e5-4b54-f096-d2538931d346"
      },
      "source": [
        "# Admission ID wise details\n",
        "admission.groupby('AdmissionID').count()"
      ],
      "execution_count": 29,
      "outputs": [
        {
          "output_type": "execute_result",
          "data": {
            "text/html": [
              "<div>\n",
              "<style scoped>\n",
              "    .dataframe tbody tr th:only-of-type {\n",
              "        vertical-align: middle;\n",
              "    }\n",
              "\n",
              "    .dataframe tbody tr th {\n",
              "        vertical-align: top;\n",
              "    }\n",
              "\n",
              "    .dataframe thead th {\n",
              "        text-align: right;\n",
              "    }\n",
              "</style>\n",
              "<table border=\"1\" class=\"dataframe\">\n",
              "  <thead>\n",
              "    <tr style=\"text-align: right;\">\n",
              "      <th></th>\n",
              "      <th>PatientID</th>\n",
              "      <th>AdmissionStartDate</th>\n",
              "      <th>AdmissionEndDate</th>\n",
              "    </tr>\n",
              "    <tr>\n",
              "      <th>AdmissionID</th>\n",
              "      <th></th>\n",
              "      <th></th>\n",
              "      <th></th>\n",
              "    </tr>\n",
              "  </thead>\n",
              "  <tbody>\n",
              "    <tr>\n",
              "      <th>1</th>\n",
              "      <td>10000</td>\n",
              "      <td>10000</td>\n",
              "      <td>10000</td>\n",
              "    </tr>\n",
              "    <tr>\n",
              "      <th>2</th>\n",
              "      <td>9500</td>\n",
              "      <td>9500</td>\n",
              "      <td>9500</td>\n",
              "    </tr>\n",
              "    <tr>\n",
              "      <th>3</th>\n",
              "      <td>7506</td>\n",
              "      <td>7506</td>\n",
              "      <td>7506</td>\n",
              "    </tr>\n",
              "    <tr>\n",
              "      <th>4</th>\n",
              "      <td>4817</td>\n",
              "      <td>4817</td>\n",
              "      <td>4817</td>\n",
              "    </tr>\n",
              "    <tr>\n",
              "      <th>5</th>\n",
              "      <td>2543</td>\n",
              "      <td>2543</td>\n",
              "      <td>2543</td>\n",
              "    </tr>\n",
              "    <tr>\n",
              "      <th>6</th>\n",
              "      <td>1096</td>\n",
              "      <td>1096</td>\n",
              "      <td>1096</td>\n",
              "    </tr>\n",
              "    <tr>\n",
              "      <th>7</th>\n",
              "      <td>435</td>\n",
              "      <td>435</td>\n",
              "      <td>435</td>\n",
              "    </tr>\n",
              "    <tr>\n",
              "      <th>8</th>\n",
              "      <td>173</td>\n",
              "      <td>173</td>\n",
              "      <td>173</td>\n",
              "    </tr>\n",
              "    <tr>\n",
              "      <th>9</th>\n",
              "      <td>52</td>\n",
              "      <td>52</td>\n",
              "      <td>52</td>\n",
              "    </tr>\n",
              "    <tr>\n",
              "      <th>10</th>\n",
              "      <td>14</td>\n",
              "      <td>14</td>\n",
              "      <td>14</td>\n",
              "    </tr>\n",
              "    <tr>\n",
              "      <th>11</th>\n",
              "      <td>5</td>\n",
              "      <td>5</td>\n",
              "      <td>5</td>\n",
              "    </tr>\n",
              "    <tr>\n",
              "      <th>12</th>\n",
              "      <td>2</td>\n",
              "      <td>2</td>\n",
              "      <td>2</td>\n",
              "    </tr>\n",
              "  </tbody>\n",
              "</table>\n",
              "</div>"
            ],
            "text/plain": [
              "             PatientID  AdmissionStartDate  AdmissionEndDate\n",
              "AdmissionID                                                 \n",
              "1                10000               10000             10000\n",
              "2                 9500                9500              9500\n",
              "3                 7506                7506              7506\n",
              "4                 4817                4817              4817\n",
              "5                 2543                2543              2543\n",
              "6                 1096                1096              1096\n",
              "7                  435                 435               435\n",
              "8                  173                 173               173\n",
              "9                   52                  52                52\n",
              "10                  14                  14                14\n",
              "11                   5                   5                 5\n",
              "12                   2                   2                 2"
            ]
          },
          "metadata": {},
          "execution_count": 29
        }
      ]
    },
    {
      "cell_type": "code",
      "metadata": {
        "id": "Ghf6mMFD-cBi",
        "colab": {
          "base_uri": "https://localhost:8080/"
        },
        "outputId": "f3faeaca-35d5-4f8e-e411-1a50d7ee33aa"
      },
      "source": [
        "# The number of days a patient was admitted for\n",
        "\n",
        "df = pd.DataFrame(columns=[\"one\", \"two\"])\n",
        "df.one=pd.to_datetime(admission['AdmissionStartDate'])\n",
        "df.two=pd.to_datetime(admission['AdmissionEndDate'])\n",
        "difference = (df.two - df.one)\n",
        "df['diff'] = difference.dt.days\n",
        "df['diff'].describe()"
      ],
      "execution_count": 30,
      "outputs": [
        {
          "output_type": "execute_result",
          "data": {
            "text/plain": [
              "count    36143.000000\n",
              "mean        10.483828\n",
              "std          5.192488\n",
              "min          2.000000\n",
              "25%          6.000000\n",
              "50%         10.000000\n",
              "75%         15.000000\n",
              "max         19.000000\n",
              "Name: diff, dtype: float64"
            ]
          },
          "metadata": {},
          "execution_count": 30
        }
      ]
    },
    {
      "cell_type": "code",
      "metadata": {
        "id": "0_UZZysCJoaM",
        "colab": {
          "base_uri": "https://localhost:8080/",
          "height": 296
        },
        "outputId": "0780fe96-793f-4efd-c7c6-b1b47a70b970"
      },
      "source": [
        "# plot the #days patient histogram\n",
        "sns.histplot(df['diff'])"
      ],
      "execution_count": 31,
      "outputs": [
        {
          "output_type": "execute_result",
          "data": {
            "text/plain": [
              "<matplotlib.axes._subplots.AxesSubplot at 0x7f90da228a10>"
            ]
          },
          "metadata": {},
          "execution_count": 31
        },
        {
          "output_type": "display_data",
          "data": {
            "image/png": "[encoded data removed]",
            "text/plain": [
              "<Figure size 432x288 with 1 Axes>"
            ]
          },
          "metadata": {
            "needs_background": "light"
          }
        }
      ]
    },
    {
      "cell_type": "code",
      "metadata": {
        "id": "8kkFDC81LGDf",
        "colab": {
          "base_uri": "https://localhost:8080/",
          "height": 265
        },
        "outputId": "96204ef7-981a-42a3-f297-2265ae777289"
      },
      "source": [
        "# Draw normal curve\n",
        "ax = df['diff'].plot.kde()"
      ],
      "execution_count": 32,
      "outputs": [
        {
          "output_type": "display_data",
          "data": {
            "image/png": "[encoded data removed]",
            "text/plain": [
              "<Figure size 432x288 with 1 Axes>"
            ]
          },
          "metadata": {
            "needs_background": "light"
          }
        }
      ]
    },
    {
      "cell_type": "markdown",
      "metadata": {
        "id": "9570JaCugz6I"
      },
      "source": [
        "## Table 3 (LabsCorePopulatedTable)"
      ]
    },
    {
      "cell_type": "code",
      "metadata": {
        "id": "DKc69AEGiXau",
        "colab": {
          "base_uri": "https://localhost:8080/",
          "height": 206
        },
        "outputId": "6dee6945-cfce-4922-8957-0a55d68af8d2"
      },
      "source": [
        "# load data\n",
        "labs = pd.read_csv('/content/drive/MyDrive/Molecular/LabsCorePopulatedTable.txt', delimiter='\\t', ) \n",
        "# skiprows=[0], header=None, names=names\n",
        "labs.head()"
      ],
      "execution_count": 33,
      "outputs": [
        {
          "output_type": "execute_result",
          "data": {
            "text/html": [
              "<div>\n",
              "<style scoped>\n",
              "    .dataframe tbody tr th:only-of-type {\n",
              "        vertical-align: middle;\n",
              "    }\n",
              "\n",
              "    .dataframe tbody tr th {\n",
              "        vertical-align: top;\n",
              "    }\n",
              "\n",
              "    .dataframe thead th {\n",
              "        text-align: right;\n",
              "    }\n",
              "</style>\n",
              "<table border=\"1\" class=\"dataframe\">\n",
              "  <thead>\n",
              "    <tr style=\"text-align: right;\">\n",
              "      <th></th>\n",
              "      <th>PatientID</th>\n",
              "      <th>AdmissionID</th>\n",
              "      <th>LabName</th>\n",
              "      <th>LabValue</th>\n",
              "      <th>LabUnits</th>\n",
              "      <th>LabDateTime</th>\n",
              "    </tr>\n",
              "  </thead>\n",
              "  <tbody>\n",
              "    <tr>\n",
              "      <th>0</th>\n",
              "      <td>915BC24E-8C44-4D33-A386-CEA965B83F32</td>\n",
              "      <td>1</td>\n",
              "      <td>CBC: HEMATOCRIT</td>\n",
              "      <td>40.7</td>\n",
              "      <td>%</td>\n",
              "      <td>1946-09-07 22:20:26.677</td>\n",
              "    </tr>\n",
              "    <tr>\n",
              "      <th>1</th>\n",
              "      <td>915BC24E-8C44-4D33-A386-CEA965B83F32</td>\n",
              "      <td>1</td>\n",
              "      <td>METABOLIC: ANION GAP</td>\n",
              "      <td>8.4</td>\n",
              "      <td>mmol/L</td>\n",
              "      <td>1946-09-07 11:52:58.600</td>\n",
              "    </tr>\n",
              "    <tr>\n",
              "      <th>2</th>\n",
              "      <td>915BC24E-8C44-4D33-A386-CEA965B83F32</td>\n",
              "      <td>1</td>\n",
              "      <td>CBC: LYMPHOCYTES</td>\n",
              "      <td>4.7</td>\n",
              "      <td>k/cumm</td>\n",
              "      <td>1946-09-07 06:08:57.303</td>\n",
              "    </tr>\n",
              "    <tr>\n",
              "      <th>3</th>\n",
              "      <td>915BC24E-8C44-4D33-A386-CEA965B83F32</td>\n",
              "      <td>1</td>\n",
              "      <td>CBC: HEMOGLOBIN</td>\n",
              "      <td>15.9</td>\n",
              "      <td>gm/dl</td>\n",
              "      <td>1946-09-07 19:16:10.057</td>\n",
              "    </tr>\n",
              "    <tr>\n",
              "      <th>4</th>\n",
              "      <td>915BC24E-8C44-4D33-A386-CEA965B83F32</td>\n",
              "      <td>1</td>\n",
              "      <td>METABOLIC: SODIUM</td>\n",
              "      <td>146.6</td>\n",
              "      <td>mmol/L</td>\n",
              "      <td>1946-09-07 14:03:11.003</td>\n",
              "    </tr>\n",
              "  </tbody>\n",
              "</table>\n",
              "</div>"
            ],
            "text/plain": [
              "                              PatientID  ...              LabDateTime\n",
              "0  915BC24E-8C44-4D33-A386-CEA965B83F32  ...  1946-09-07 22:20:26.677\n",
              "1  915BC24E-8C44-4D33-A386-CEA965B83F32  ...  1946-09-07 11:52:58.600\n",
              "2  915BC24E-8C44-4D33-A386-CEA965B83F32  ...  1946-09-07 06:08:57.303\n",
              "3  915BC24E-8C44-4D33-A386-CEA965B83F32  ...  1946-09-07 19:16:10.057\n",
              "4  915BC24E-8C44-4D33-A386-CEA965B83F32  ...  1946-09-07 14:03:11.003\n",
              "\n",
              "[5 rows x 6 columns]"
            ]
          },
          "metadata": {},
          "execution_count": 33
        }
      ]
    },
    {
      "cell_type": "code",
      "metadata": {
        "id": "4lEqAKVWhd--",
        "colab": {
          "base_uri": "https://localhost:8080/",
          "height": 296
        },
        "outputId": "70a9d8f2-5300-4646-ae12-620e4e535fc3"
      },
      "source": [
        "# Year wise lab prescribed\n",
        "df3 = pd.to_datetime(labs['LabDateTime'])\n",
        "sns.histplot(df3)"
      ],
      "execution_count": 34,
      "outputs": [
        {
          "output_type": "execute_result",
          "data": {
            "text/plain": [
              "<matplotlib.axes._subplots.AxesSubplot at 0x7f90da9cc7d0>"
            ]
          },
          "metadata": {},
          "execution_count": 34
        },
        {
          "output_type": "display_data",
          "data": {
            "image/png": "[encoded data removed]",
            "text/plain": [
              "<Figure size 432x288 with 1 Axes>"
            ]
          },
          "metadata": {
            "needs_background": "light"
          }
        }
      ]
    },
    {
      "cell_type": "code",
      "metadata": {
        "id": "GgJFsKgvetYj",
        "colab": {
          "base_uri": "https://localhost:8080/"
        },
        "outputId": "67b03eca-20eb-4668-b49f-7753a6b05309"
      },
      "source": [
        "labs['LabName'].unique()"
      ],
      "execution_count": 35,
      "outputs": [
        {
          "output_type": "execute_result",
          "data": {
            "text/plain": [
              "array(['CBC: HEMATOCRIT', 'METABOLIC: ANION GAP', 'CBC: LYMPHOCYTES',\n",
              "       'CBC: HEMOGLOBIN', 'METABOLIC: SODIUM', 'METABOLIC: ALBUMIN',\n",
              "       'METABOLIC: BUN', 'CBC: NEUTROPHILS', 'METABOLIC: CALCIUM',\n",
              "       'METABOLIC: GLUCOSE', 'URINALYSIS: PH', 'METABOLIC: BILI TOTAL',\n",
              "       'METABOLIC: POTASSIUM', 'URINALYSIS: RED BLOOD CELLS',\n",
              "       'METABOLIC: CARBON DIOXIDE', 'METABOLIC: CREATININE',\n",
              "       'URINALYSIS: SPECIFIC GRAVITY', 'CBC: MEAN CORPUSCULAR VOLUME',\n",
              "       'METABOLIC: CHLORIDE', 'METABOLIC: ALT/SGPT',\n",
              "       'METABOLIC: AST/SGOT', 'METABOLIC: ALK PHOS', 'CBC: EOSINOPHILS',\n",
              "       'CBC: ABSOLUTE NEUTROPHILS', 'CBC: MCH',\n",
              "       'URINALYSIS: WHITE BLOOD CELLS', 'CBC: ABSOLUTE LYMPHOCYTES',\n",
              "       'CBC: PLATELET COUNT', 'CBC: RED BLOOD CELL COUNT',\n",
              "       'CBC: WHITE BLOOD CELL COUNT', 'CBC: RDW', 'CBC: MCHC',\n",
              "       'CBC: MONOCYTES', 'METABOLIC: TOTAL PROTEIN', 'CBC: BASOPHILS'],\n",
              "      dtype=object)"
            ]
          },
          "metadata": {},
          "execution_count": 35
        }
      ]
    },
    {
      "cell_type": "code",
      "metadata": {
        "id": "zqJFwLp2aVi2",
        "colab": {
          "base_uri": "https://localhost:8080/"
        },
        "outputId": "0ec679b6-7274-4cc8-f3e8-755f1ec91cd4"
      },
      "source": [
        "labs['LabName'].value_counts()"
      ],
      "execution_count": 36,
      "outputs": [
        {
          "output_type": "execute_result",
          "data": {
            "text/plain": [
              "CBC: PLATELET COUNT              306959\n",
              "CBC: LYMPHOCYTES                 306957\n",
              "METABOLIC: CARBON DIOXIDE        306886\n",
              "CBC: EOSINOPHILS                 306886\n",
              "CBC: ABSOLUTE LYMPHOCYTES        306883\n",
              "URINALYSIS: PH                   306850\n",
              "METABOLIC: AST/SGOT              306780\n",
              "METABOLIC: CHLORIDE              306747\n",
              "CBC: MONOCYTES                   306745\n",
              "URINALYSIS: SPECIFIC GRAVITY     306655\n",
              "METABOLIC: POTASSIUM             306629\n",
              "CBC: MCH                         306592\n",
              "METABOLIC: BUN                   306571\n",
              "CBC: HEMATOCRIT                  306557\n",
              "METABOLIC: GLUCOSE               306516\n",
              "METABOLIC: SODIUM                306457\n",
              "METABOLIC: ALK PHOS              306454\n",
              "METABOLIC: CREATININE            306453\n",
              "CBC: RDW                         306452\n",
              "URINALYSIS: RED BLOOD CELLS      306431\n",
              "METABOLIC: ALT/SGPT              306431\n",
              "URINALYSIS: WHITE BLOOD CELLS    306391\n",
              "METABOLIC: ANION GAP             306375\n",
              "CBC: NEUTROPHILS                 306354\n",
              "METABOLIC: ALBUMIN               306289\n",
              "CBC: RED BLOOD CELL COUNT        306265\n",
              "METABOLIC: BILI TOTAL            306254\n",
              "CBC: WHITE BLOOD CELL COUNT      306248\n",
              "CBC: ABSOLUTE NEUTROPHILS        306215\n",
              "METABOLIC: TOTAL PROTEIN         306176\n",
              "CBC: HEMOGLOBIN                  306150\n",
              "METABOLIC: CALCIUM               306038\n",
              "CBC: MEAN CORPUSCULAR VOLUME     305959\n",
              "CBC: BASOPHILS                   305953\n",
              "CBC: MCHC                        305947\n",
              "Name: LabName, dtype: int64"
            ]
          },
          "metadata": {},
          "execution_count": 36
        }
      ]
    },
    {
      "cell_type": "code",
      "metadata": {
        "id": "3QZ_Opuhj-9M",
        "colab": {
          "base_uri": "https://localhost:8080/"
        },
        "outputId": "1c467c4f-8180-4f96-fd24-18fe42ea9ae1"
      },
      "source": [
        "# Correlation\n",
        "correlation = labs['AdmissionID'].corr(labs['AdmissionID'])\n",
        "correlation"
      ],
      "execution_count": 37,
      "outputs": [
        {
          "output_type": "execute_result",
          "data": {
            "text/plain": [
              "0.9999999999999999"
            ]
          },
          "metadata": {},
          "execution_count": 37
        }
      ]
    },
    {
      "cell_type": "code",
      "metadata": {
        "id": "ACh3f8zGZLsK",
        "colab": {
          "base_uri": "https://localhost:8080/",
          "height": 112
        },
        "outputId": "d1925ea9-ab71-4760-99c1-75cfc1b34186"
      },
      "source": [
        "labs.corr()"
      ],
      "execution_count": 38,
      "outputs": [
        {
          "output_type": "execute_result",
          "data": {
            "text/html": [
              "<div>\n",
              "<style scoped>\n",
              "    .dataframe tbody tr th:only-of-type {\n",
              "        vertical-align: middle;\n",
              "    }\n",
              "\n",
              "    .dataframe tbody tr th {\n",
              "        vertical-align: top;\n",
              "    }\n",
              "\n",
              "    .dataframe thead th {\n",
              "        text-align: right;\n",
              "    }\n",
              "</style>\n",
              "<table border=\"1\" class=\"dataframe\">\n",
              "  <thead>\n",
              "    <tr style=\"text-align: right;\">\n",
              "      <th></th>\n",
              "      <th>AdmissionID</th>\n",
              "      <th>LabValue</th>\n",
              "    </tr>\n",
              "  </thead>\n",
              "  <tbody>\n",
              "    <tr>\n",
              "      <th>AdmissionID</th>\n",
              "      <td>1.000000</td>\n",
              "      <td>0.000092</td>\n",
              "    </tr>\n",
              "    <tr>\n",
              "      <th>LabValue</th>\n",
              "      <td>0.000092</td>\n",
              "      <td>1.000000</td>\n",
              "    </tr>\n",
              "  </tbody>\n",
              "</table>\n",
              "</div>"
            ],
            "text/plain": [
              "             AdmissionID  LabValue\n",
              "AdmissionID     1.000000  0.000092\n",
              "LabValue        0.000092  1.000000"
            ]
          },
          "metadata": {},
          "execution_count": 38
        }
      ]
    },
    {
      "cell_type": "markdown",
      "metadata": {
        "id": "4FrGq-fnPa56"
      },
      "source": [
        "## Table 4 (AdmissionsDiagnosesCorePopulatedTable)"
      ]
    },
    {
      "cell_type": "code",
      "metadata": {
        "id": "G2m0iIq5O1Zm",
        "colab": {
          "base_uri": "https://localhost:8080/",
          "height": 206
        },
        "outputId": "d19cd373-ccea-4fe2-a3c0-e6da5df6096d"
      },
      "source": [
        "# load data\n",
        "admissionDiagnoses = pd.read_csv('/content/drive/MyDrive/Molecular/AdmissionsDiagnosesCorePopulatedTable.txt', delimiter='\\t', ) \n",
        "admissionDiagnoses.head()"
      ],
      "execution_count": 39,
      "outputs": [
        {
          "output_type": "execute_result",
          "data": {
            "text/html": [
              "<div>\n",
              "<style scoped>\n",
              "    .dataframe tbody tr th:only-of-type {\n",
              "        vertical-align: middle;\n",
              "    }\n",
              "\n",
              "    .dataframe tbody tr th {\n",
              "        vertical-align: top;\n",
              "    }\n",
              "\n",
              "    .dataframe thead th {\n",
              "        text-align: right;\n",
              "    }\n",
              "</style>\n",
              "<table border=\"1\" class=\"dataframe\">\n",
              "  <thead>\n",
              "    <tr style=\"text-align: right;\">\n",
              "      <th></th>\n",
              "      <th>PatientID</th>\n",
              "      <th>AdmissionID</th>\n",
              "      <th>PrimaryDiagnosisCode</th>\n",
              "      <th>PrimaryDiagnosisDescription</th>\n",
              "    </tr>\n",
              "  </thead>\n",
              "  <tbody>\n",
              "    <tr>\n",
              "      <th>0</th>\n",
              "      <td>E74E9DF1-D8FD-41BC-8CDE-226CFE318E0B</td>\n",
              "      <td>1</td>\n",
              "      <td>E09.42</td>\n",
              "      <td>Drug or chemical induced diabetes mellitus wit...</td>\n",
              "    </tr>\n",
              "    <tr>\n",
              "      <th>1</th>\n",
              "      <td>E74E9DF1-D8FD-41BC-8CDE-226CFE318E0B</td>\n",
              "      <td>2</td>\n",
              "      <td>O29.123</td>\n",
              "      <td>Cardiac failure due to anesthesia during pregn...</td>\n",
              "    </tr>\n",
              "    <tr>\n",
              "      <th>2</th>\n",
              "      <td>E74E9DF1-D8FD-41BC-8CDE-226CFE318E0B</td>\n",
              "      <td>3</td>\n",
              "      <td>M84.561</td>\n",
              "      <td>Pathological fracture in neoplastic disease, r...</td>\n",
              "    </tr>\n",
              "    <tr>\n",
              "      <th>3</th>\n",
              "      <td>3AB69ECE-65F4-4D04-9E87-54E73C2DB4A8</td>\n",
              "      <td>1</td>\n",
              "      <td>G52.3</td>\n",
              "      <td>Disorders of hypoglossal nerve</td>\n",
              "    </tr>\n",
              "    <tr>\n",
              "      <th>4</th>\n",
              "      <td>3AB69ECE-65F4-4D04-9E87-54E73C2DB4A8</td>\n",
              "      <td>2</td>\n",
              "      <td>C40.31</td>\n",
              "      <td>Malignant neoplasm of short bones of right low...</td>\n",
              "    </tr>\n",
              "  </tbody>\n",
              "</table>\n",
              "</div>"
            ],
            "text/plain": [
              "                              PatientID  ...                        PrimaryDiagnosisDescription\n",
              "0  E74E9DF1-D8FD-41BC-8CDE-226CFE318E0B  ...  Drug or chemical induced diabetes mellitus wit...\n",
              "1  E74E9DF1-D8FD-41BC-8CDE-226CFE318E0B  ...  Cardiac failure due to anesthesia during pregn...\n",
              "2  E74E9DF1-D8FD-41BC-8CDE-226CFE318E0B  ...  Pathological fracture in neoplastic disease, r...\n",
              "3  3AB69ECE-65F4-4D04-9E87-54E73C2DB4A8  ...                     Disorders of hypoglossal nerve\n",
              "4  3AB69ECE-65F4-4D04-9E87-54E73C2DB4A8  ...  Malignant neoplasm of short bones of right low...\n",
              "\n",
              "[5 rows x 4 columns]"
            ]
          },
          "metadata": {},
          "execution_count": 39
        }
      ]
    },
    {
      "cell_type": "code",
      "metadata": {
        "id": "fo03uRQ0Lw6J",
        "colab": {
          "base_uri": "https://localhost:8080/"
        },
        "outputId": "972790a8-7b8d-44f1-e5aa-dbec332d992d"
      },
      "source": [
        "# Unique diagnosis codes\n",
        "codes=admissionDiagnoses['PrimaryDiagnosisCode'].unique().size\n",
        "print('Unique Diagnosis codes', codes)"
      ],
      "execution_count": 40,
      "outputs": [
        {
          "output_type": "stream",
          "name": "stdout",
          "text": [
            "Unique Diagnosis codes 2625\n"
          ]
        }
      ]
    },
    {
      "cell_type": "code",
      "metadata": {
        "id": "-B0U9zjwMp1Q",
        "colab": {
          "base_uri": "https://localhost:8080/"
        },
        "outputId": "0fab765b-8060-4b6e-9e3c-aa7280ff3481"
      },
      "source": [
        "# Get unique record count\n",
        "admissionDiagnoses.nunique(axis=0)"
      ],
      "execution_count": 41,
      "outputs": [
        {
          "output_type": "execute_result",
          "data": {
            "text/plain": [
              "PatientID                      10000\n",
              "AdmissionID                       12\n",
              "PrimaryDiagnosisCode            2625\n",
              "PrimaryDiagnosisDescription     2618\n",
              "dtype: int64"
            ]
          },
          "metadata": {},
          "execution_count": 41
        }
      ]
    },
    {
      "cell_type": "code",
      "metadata": {
        "id": "DxLomDFAPn_I",
        "colab": {
          "base_uri": "https://localhost:8080/",
          "height": 362
        },
        "outputId": "6c9f53df-6498-43a8-c1db-fe39a9b6ce9c"
      },
      "source": [
        "# Get Diabetes patient details\n",
        "\n",
        "# E08, E09, E10, E11, the codes from E08-E09 are for diabetes\n",
        "code = admissionDiagnoses[admissionDiagnoses.PrimaryDiagnosisCode.str.startswith('E08')] \n",
        "code.head(10)"
      ],
      "execution_count": 42,
      "outputs": [
        {
          "output_type": "execute_result",
          "data": {
            "text/html": [
              "<div>\n",
              "<style scoped>\n",
              "    .dataframe tbody tr th:only-of-type {\n",
              "        vertical-align: middle;\n",
              "    }\n",
              "\n",
              "    .dataframe tbody tr th {\n",
              "        vertical-align: top;\n",
              "    }\n",
              "\n",
              "    .dataframe thead th {\n",
              "        text-align: right;\n",
              "    }\n",
              "</style>\n",
              "<table border=\"1\" class=\"dataframe\">\n",
              "  <thead>\n",
              "    <tr style=\"text-align: right;\">\n",
              "      <th></th>\n",
              "      <th>PatientID</th>\n",
              "      <th>AdmissionID</th>\n",
              "      <th>PrimaryDiagnosisCode</th>\n",
              "      <th>PrimaryDiagnosisDescription</th>\n",
              "    </tr>\n",
              "  </thead>\n",
              "  <tbody>\n",
              "    <tr>\n",
              "      <th>58</th>\n",
              "      <td>37896A65-C3D7-418B-9259-256F60BB7A6D</td>\n",
              "      <td>2</td>\n",
              "      <td>E08.44</td>\n",
              "      <td>Diabetes mellitus due to underlying condition ...</td>\n",
              "    </tr>\n",
              "    <tr>\n",
              "      <th>177</th>\n",
              "      <td>42F93CFB-5F41-408C-91C1-6EAFB75EE53E</td>\n",
              "      <td>1</td>\n",
              "      <td>E08.62</td>\n",
              "      <td>Diabetes mellitus due to underlying condition ...</td>\n",
              "    </tr>\n",
              "    <tr>\n",
              "      <th>217</th>\n",
              "      <td>33BF84B0-A385-4AB8-9B93-36594C4279B7</td>\n",
              "      <td>6</td>\n",
              "      <td>E08.620</td>\n",
              "      <td>Diabetes mellitus due to underlying condition ...</td>\n",
              "    </tr>\n",
              "    <tr>\n",
              "      <th>245</th>\n",
              "      <td>2957D573-8F3E-4395-80CF-B323E014494D</td>\n",
              "      <td>1</td>\n",
              "      <td>E08.341</td>\n",
              "      <td>Diabetes mellitus due to underlying condition ...</td>\n",
              "    </tr>\n",
              "    <tr>\n",
              "      <th>326</th>\n",
              "      <td>F7DC93CB-1E8E-477F-A313-186145733B29</td>\n",
              "      <td>1</td>\n",
              "      <td>E08.9</td>\n",
              "      <td>Diabetes mellitus due to underlying condition ...</td>\n",
              "    </tr>\n",
              "    <tr>\n",
              "      <th>334</th>\n",
              "      <td>5A571E86-B48E-4B30-BFCE-B04AF61E1511</td>\n",
              "      <td>3</td>\n",
              "      <td>E08.349</td>\n",
              "      <td>Diabetes mellitus due to underlying condition ...</td>\n",
              "    </tr>\n",
              "    <tr>\n",
              "      <th>651</th>\n",
              "      <td>5B8774C3-EC72-4430-85A7-2D2D14BC25FF</td>\n",
              "      <td>3</td>\n",
              "      <td>E08.4</td>\n",
              "      <td>Diabetes mellitus due to underlying condition ...</td>\n",
              "    </tr>\n",
              "    <tr>\n",
              "      <th>673</th>\n",
              "      <td>54E5BC98-4DFC-432C-84BE-90A5B21D0E17</td>\n",
              "      <td>2</td>\n",
              "      <td>E08.22</td>\n",
              "      <td>Diabetes mellitus due to underlying condition ...</td>\n",
              "    </tr>\n",
              "    <tr>\n",
              "      <th>701</th>\n",
              "      <td>1BEE1BDF-D0D6-45B1-92F3-76FE6A0E447E</td>\n",
              "      <td>2</td>\n",
              "      <td>E08.21</td>\n",
              "      <td>Diabetes mellitus due to underlying condition ...</td>\n",
              "    </tr>\n",
              "    <tr>\n",
              "      <th>861</th>\n",
              "      <td>A3341F36-474F-4CA9-B9BB-A9F722F25028</td>\n",
              "      <td>2</td>\n",
              "      <td>E08.65</td>\n",
              "      <td>Diabetes mellitus due to underlying condition ...</td>\n",
              "    </tr>\n",
              "  </tbody>\n",
              "</table>\n",
              "</div>"
            ],
            "text/plain": [
              "                                PatientID  ...                        PrimaryDiagnosisDescription\n",
              "58   37896A65-C3D7-418B-9259-256F60BB7A6D  ...  Diabetes mellitus due to underlying condition ...\n",
              "177  42F93CFB-5F41-408C-91C1-6EAFB75EE53E  ...  Diabetes mellitus due to underlying condition ...\n",
              "217  33BF84B0-A385-4AB8-9B93-36594C4279B7  ...  Diabetes mellitus due to underlying condition ...\n",
              "245  2957D573-8F3E-4395-80CF-B323E014494D  ...  Diabetes mellitus due to underlying condition ...\n",
              "326  F7DC93CB-1E8E-477F-A313-186145733B29  ...  Diabetes mellitus due to underlying condition ...\n",
              "334  5A571E86-B48E-4B30-BFCE-B04AF61E1511  ...  Diabetes mellitus due to underlying condition ...\n",
              "651  5B8774C3-EC72-4430-85A7-2D2D14BC25FF  ...  Diabetes mellitus due to underlying condition ...\n",
              "673  54E5BC98-4DFC-432C-84BE-90A5B21D0E17  ...  Diabetes mellitus due to underlying condition ...\n",
              "701  1BEE1BDF-D0D6-45B1-92F3-76FE6A0E447E  ...  Diabetes mellitus due to underlying condition ...\n",
              "861  A3341F36-474F-4CA9-B9BB-A9F722F25028  ...  Diabetes mellitus due to underlying condition ...\n",
              "\n",
              "[10 rows x 4 columns]"
            ]
          },
          "metadata": {},
          "execution_count": 42
        }
      ]
    },
    {
      "cell_type": "code",
      "metadata": {
        "id": "3MErwRRMTCWG",
        "colab": {
          "base_uri": "https://localhost:8080/"
        },
        "outputId": "ee79bb64-bda9-4338-ba91-f86ca1b64c55"
      },
      "source": [
        "# Get patients with diabetes diagnosis\n",
        "diabetescode = ['E08', 'E09', 'E10', 'E11']\n",
        "diabetes = admissionDiagnoses[admissionDiagnoses.PrimaryDiagnosisDescription.str.startswith('Diabetes')]\n",
        "#len(pulmonarydisdf)\n",
        "diabetes.head(10)\n",
        "len(diabetes)"
      ],
      "execution_count": 43,
      "outputs": [
        {
          "output_type": "execute_result",
          "data": {
            "text/plain": [
              "598"
            ]
          },
          "metadata": {},
          "execution_count": 43
        }
      ]
    },
    {
      "cell_type": "code",
      "metadata": {
        "id": "KST2XcJhR7qQ",
        "colab": {
          "base_uri": "https://localhost:8080/",
          "height": 296
        },
        "outputId": "c1831221-1b8e-4079-e66c-97e1df3bbb63"
      },
      "source": [
        "# Diagnosis count as per AdmissionID\n",
        "sns.countplot(x='AdmissionID',data=admissionDiagnoses)"
      ],
      "execution_count": 44,
      "outputs": [
        {
          "output_type": "execute_result",
          "data": {
            "text/plain": [
              "<matplotlib.axes._subplots.AxesSubplot at 0x7f909cc0bcd0>"
            ]
          },
          "metadata": {},
          "execution_count": 44
        },
        {
          "output_type": "display_data",
          "data": {
            "image/png": "[encoded data removed]",
            "text/plain": [
              "<Figure size 432x288 with 1 Axes>"
            ]
          },
          "metadata": {
            "needs_background": "light"
          }
        }
      ]
    },
    {
      "cell_type": "code",
      "metadata": {
        "id": "IDvejXXc_s1e"
      },
      "source": [
        ""
      ],
      "execution_count": 45,
      "outputs": []
    },
    {
      "cell_type": "code",
      "metadata": {
        "id": "im5rIkZcmdtG"
      },
      "source": [
        ""
      ],
      "execution_count": 45,
      "outputs": []
    }
  ]
}